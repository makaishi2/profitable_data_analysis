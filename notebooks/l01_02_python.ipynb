{
 "cells": [
  {
   "cell_type": "markdown",
   "metadata": {
    "id": "8PrD4L_92-EM"
   },
   "source": [
    "## 講座1.2 Python入門"
   ]
  },
  {
   "cell_type": "markdown",
   "metadata": {
    "id": "PyYQrUX82-EP"
   },
   "source": [
    "#### 基本型"
   ]
  },
  {
   "cell_type": "code",
   "execution_count": null,
   "metadata": {
    "id": "ck6vpPgO2-EQ"
   },
   "outputs": [],
   "source": [
    "# 整数型\n",
    "# 数値表現が整数の場合、代入先変数は自動的に整数型になります。\n",
    "a = 1\n",
    "\n",
    "# 浮動小数点数型\n",
    "# 数値表現に小数点が含まれると、代入先変数は自動的に浮動小数点数型になります。\n",
    "b = 2.0\n",
    "\n",
    "# 文字列型\n",
    "# 文字列はシングルクオート(')で囲みます。\n",
    "# あるいはダブルクオート(\")でもいいです。\n",
    "c = 'abc'\n",
    "\n",
    "# ブーリアン型\n",
    "# True または False を取る変数の型です。\n",
    "d = True"
   ]
  },
  {
   "cell_type": "markdown",
   "metadata": {
    "id": "47rgVwXz2-EY"
   },
   "source": [
    "#### print関数とtype関数"
   ]
  },
  {
   "cell_type": "code",
   "execution_count": null,
   "metadata": {
    "colab": {
     "base_uri": "https://localhost:8080/"
    },
    "id": "wPuoMzM42-EY",
    "outputId": "50a393af-6232-4d3c-a571-b77b31f85f95"
   },
   "outputs": [],
   "source": [
    "# 整数型変数aの値とtype\n",
    "print(a)\n",
    "print(type(a))"
   ]
  },
  {
   "cell_type": "code",
   "execution_count": null,
   "metadata": {
    "colab": {
     "base_uri": "https://localhost:8080/"
    },
    "id": "cIu3RkVY2-Ef",
    "outputId": "56fc4dee-5864-4641-f8fc-2ffc9c0666f0"
   },
   "outputs": [],
   "source": [
    "# 浮動小数点数型変数bの値とtype\n",
    "print(b)\n",
    "print(type(b))"
   ]
  },
  {
   "cell_type": "code",
   "execution_count": null,
   "metadata": {
    "colab": {
     "base_uri": "https://localhost:8080/"
    },
    "id": "cDyOLlVE2-Ep",
    "outputId": "00f481ce-213d-4d65-ed4a-5ddc7c141c08"
   },
   "outputs": [],
   "source": [
    "# 文字列型変数cの値とtype'\n",
    "print(c)\n",
    "print(type(c))"
   ]
  },
  {
   "cell_type": "code",
   "execution_count": null,
   "metadata": {
    "colab": {
     "base_uri": "https://localhost:8080/"
    },
    "id": "-eCkBPUd2-Ez",
    "outputId": "022facd4-6962-4977-87af-7c27b324cf4f"
   },
   "outputs": [],
   "source": [
    "# ブーリアン型変数dの値とtype'\n",
    "print(d)\n",
    "print(type(d))"
   ]
  },
  {
   "cell_type": "markdown",
   "metadata": {
    "id": "HMcMwYOc2-E7"
   },
   "source": [
    "#### リスト"
   ]
  },
  {
   "cell_type": "code",
   "execution_count": null,
   "metadata": {
    "colab": {
     "base_uri": "https://localhost:8080/"
    },
    "id": "yrRfmqkD2-E8",
    "outputId": "7e93e5f7-a111-4474-e456-38dc302b9d51"
   },
   "outputs": [],
   "source": [
    "# リストの定義\n",
    "l = [1, 2, 3, 5, 8, 13]\n",
    "\n",
    "# リストの値とtype\n",
    "print(l)\n",
    "print(type(l))"
   ]
  },
  {
   "cell_type": "markdown",
   "metadata": {
    "id": "Hn9AiARl2-FH"
   },
   "source": [
    "#### リストの要素数"
   ]
  },
  {
   "cell_type": "code",
   "execution_count": null,
   "metadata": {
    "colab": {
     "base_uri": "https://localhost:8080/"
    },
    "id": "BRJXtFFQ2-FI",
    "outputId": "f5a7fa2e-a969-487d-dfc0-680a7a1cc46f"
   },
   "outputs": [],
   "source": [
    "# リストの要素数\n",
    "print(len(l))"
   ]
  },
  {
   "cell_type": "markdown",
   "metadata": {
    "id": "HwysVIUG2-FV"
   },
   "source": [
    "#### リストの要素参照"
   ]
  },
  {
   "cell_type": "code",
   "execution_count": null,
   "metadata": {
    "colab": {
     "base_uri": "https://localhost:8080/"
    },
    "id": "DK2_14rD2-FV",
    "outputId": "87f3c621-4f49-4bc5-cbc5-3b4bff5e69b9"
   },
   "outputs": [],
   "source": [
    "# リストの要素参照\n",
    "\n",
    "# 最初の要素\n",
    "print(l[0])\n",
    "\n",
    "# 3番目の要素\n",
    "print(l[2])\n",
    "\n",
    "# 最後の要素 (こういう指定方法も可能)\n",
    "print(l[-1])"
   ]
  },
  {
   "cell_type": "code",
   "execution_count": null,
   "metadata": {
    "colab": {
     "base_uri": "https://localhost:8080/"
    },
    "id": "Cqed2dAw2-FZ",
    "outputId": "f252d3fd-766e-409a-b01d-61e825c44803"
   },
   "outputs": [],
   "source": [
    "# リストの部分参照1\n",
    "\n",
    "# 部分リスト インデックス:2以上 インデックス: 5未満\n",
    "print(l[2:5])\n",
    "\n",
    "# 部分リスト インデックス:0以上 インデックス: 3未満\n",
    "print(l[0:3])\n",
    "\n",
    "# 開始インデックスが0の場合は省略可\n",
    "print(l[:3])"
   ]
  },
  {
   "cell_type": "code",
   "execution_count": null,
   "metadata": {
    "colab": {
     "base_uri": "https://localhost:8080/"
    },
    "id": "Af26k6nk2-Fc",
    "outputId": "7f03fac7-bf7a-43f7-cee0-1587c19b8cfb"
   },
   "outputs": [],
   "source": [
    "# リストの部分参照2\n",
    "\n",
    "# 部分リスト インデックス:4以上最後まで\n",
    "# リストの長さを求める\n",
    "n = len(l)\n",
    "print(l[4:n])\n",
    "\n",
    "# 最終インデックスが最終要素の場合は省略可\n",
    "print(l[4:])\n",
    "\n",
    "# 後ろから二つめから最後まで\n",
    "print(l[-2:])\n",
    "\n",
    "# 最初も最後も省略するとリスト全体になる\n",
    "print(l[:])"
   ]
  },
  {
   "cell_type": "markdown",
   "metadata": {
    "id": "0BcEDGw52-Fg"
   },
   "source": [
    "#### タプル"
   ]
  },
  {
   "cell_type": "code",
   "execution_count": null,
   "metadata": {
    "colab": {
     "base_uri": "https://localhost:8080/"
    },
    "id": "clsh-h9U2-Fj",
    "outputId": "89af5b43-fe5b-436b-9770-97f4561c5b01"
   },
   "outputs": [],
   "source": [
    "# タプルの定義\n",
    "t = (1, 2, 3, 5, 8, 13)\n",
    "\n",
    "# タプルの値表示\n",
    "print(t)\n",
    "\n",
    "# タプルの型表示\n",
    "print(type(t))\n",
    "\n",
    "# タプルの要素数\n",
    "print(len(t))\n",
    "\n",
    "# タプルの要素参照\n",
    "print(t[1])"
   ]
  },
  {
   "cell_type": "code",
   "execution_count": null,
   "metadata": {
    "colab": {
     "base_uri": "https://localhost:8080/",
     "height": 144
    },
    "id": "Ab5jH3-B2-Fn",
    "outputId": "9cd76f75-8a38-48db-fc73-cda33eff3b3a"
   },
   "outputs": [],
   "source": [
    "t[1] = 1"
   ]
  },
  {
   "cell_type": "code",
   "execution_count": null,
   "metadata": {
    "colab": {
     "base_uri": "https://localhost:8080/"
    },
    "id": "0H7QX-AS2-Fq",
    "outputId": "ec0f1cf5-e35c-4101-a912-61d4cc89e900"
   },
   "outputs": [],
   "source": [
    "x = 1\n",
    "y = 2\n",
    "z = (x, y)\n",
    "print(type(z))"
   ]
  },
  {
   "cell_type": "code",
   "execution_count": null,
   "metadata": {
    "colab": {
     "base_uri": "https://localhost:8080/"
    },
    "id": "U3hYst__2-Ft",
    "outputId": "598ad617-e048-467f-f480-d6f16b5dada2"
   },
   "outputs": [],
   "source": [
    "a, b = z\n",
    "print(a)\n",
    "print(b)"
   ]
  },
  {
   "cell_type": "markdown",
   "metadata": {
    "id": "vWpZdRag2-GJ"
   },
   "source": [
    "### 辞書"
   ]
  },
  {
   "cell_type": "markdown",
   "metadata": {
    "id": "qKh9XKnF2-GK"
   },
   "source": [
    "#### 辞書の定義"
   ]
  },
  {
   "cell_type": "code",
   "execution_count": null,
   "metadata": {
    "colab": {
     "base_uri": "https://localhost:8080/"
    },
    "id": "2jPrrpfP2-GK",
    "outputId": "9077176b-c349-470f-91d9-a04f3935dbbc"
   },
   "outputs": [],
   "source": [
    "# 辞書の定義\n",
    "my_dict = {'yes': 1, 'no': 0}\n",
    "\n",
    "# print文の結果\n",
    "print(my_dict)\n",
    "\n",
    "# type関数の結果\n",
    "print(type(my_dict))"
   ]
  },
  {
   "cell_type": "markdown",
   "metadata": {
    "id": "toUV79K72-GR"
   },
   "source": [
    "#### 辞書の参照"
   ]
  },
  {
   "cell_type": "code",
   "execution_count": null,
   "metadata": {
    "colab": {
     "base_uri": "https://localhost:8080/"
    },
    "id": "20DLuIRv2-GS",
    "outputId": "f17b62a8-e8fb-421f-ffae-c679a786eae5"
   },
   "outputs": [],
   "source": [
    "# キーから値を参照\n",
    "\n",
    "# key='yes'で検索\n",
    "value1 = my_dict['yes']\n",
    "print(value1)\n",
    "\n",
    "# key='no'で検索\n",
    "value2 = my_dict['no']\n",
    "print(value2)"
   ]
  },
  {
   "cell_type": "markdown",
   "metadata": {
    "id": "ePA6aK2I2-GV"
   },
   "source": [
    "#### 既存辞書への項目追加"
   ]
  },
  {
   "cell_type": "code",
   "execution_count": null,
   "metadata": {
    "colab": {
     "base_uri": "https://localhost:8080/"
    },
    "id": "nCsydOXH2-GW",
    "outputId": "ba9e8cfe-844a-4b35-a745-ae7ad420acf0"
   },
   "outputs": [],
   "source": [
    "# 項目追加\n",
    "my_dict['neutral'] = 2\n",
    "\n",
    "# 結果確認\n",
    "print(my_dict)"
   ]
  },
  {
   "cell_type": "markdown",
   "metadata": {
    "id": "7A6JEafr2-Ga"
   },
   "source": [
    "### 制御構造"
   ]
  },
  {
   "cell_type": "markdown",
   "metadata": {
    "id": "83WIdtTd2-Ga"
   },
   "source": [
    "#### ループ処理"
   ]
  },
  {
   "cell_type": "code",
   "execution_count": null,
   "metadata": {
    "colab": {
     "base_uri": "https://localhost:8080/"
    },
    "id": "5SqhNLCZ2-Gb",
    "outputId": "50005013-ac9e-4a4b-80d9-d37f41533695"
   },
   "outputs": [],
   "source": [
    "# ループ処理\n",
    "\n",
    "# リストの定義\n",
    "list4 = ['One', 'Two', 'Three', 'Four']\n",
    "\n",
    "# ループ処理\n",
    "for item in list4:\n",
    "    print(item)"
   ]
  },
  {
   "cell_type": "code",
   "execution_count": null,
   "metadata": {
    "colab": {
     "base_uri": "https://localhost:8080/"
    },
    "id": "t-lTQuz22-Gh",
    "outputId": "0eeeeec6-9c6c-497d-adbd-6cc87a979df3"
   },
   "outputs": [],
   "source": [
    "# range関数と組み合わせ\n",
    "for item in range(4):\n",
    "    print(item)"
   ]
  },
  {
   "cell_type": "code",
   "execution_count": null,
   "metadata": {
    "colab": {
     "base_uri": "https://localhost:8080/"
    },
    "id": "QkzvKe852-Gl",
    "outputId": "7729f7f2-7a72-4413-b5f8-1452b727386c"
   },
   "outputs": [],
   "source": [
    "# 引数2つのrange関数\n",
    "for item in range(1, 5):\n",
    "    print(item)"
   ]
  },
  {
   "cell_type": "code",
   "execution_count": null,
   "metadata": {
    "colab": {
     "base_uri": "https://localhost:8080/"
    },
    "id": "OLqB-ql82-Gq",
    "outputId": "5b988ead-eb1a-45b7-94ed-c446cfa25824"
   },
   "outputs": [],
   "source": [
    "# 引数3つのrange関数\n",
    "for item in range(1, 9, 2):\n",
    "    print(item)"
   ]
  },
  {
   "cell_type": "markdown",
   "metadata": {
    "id": "Lh4fff352-Gt"
   },
   "source": [
    "#### if文"
   ]
  },
  {
   "cell_type": "code",
   "execution_count": null,
   "metadata": {
    "colab": {
     "base_uri": "https://localhost:8080/"
    },
    "id": "Zol5399N2-Gt",
    "outputId": "0072a862-36f3-4158-f632-5e65e36d1edd"
   },
   "outputs": [],
   "source": [
    "# if文のサンプル\n",
    "for i in range(1, 5):\n",
    "    if i % 2 == 0:\n",
    "        print(i, 'は偶数です')\n",
    "    else:\n",
    "        print(i, 'は奇数です')"
   ]
  },
  {
   "cell_type": "markdown",
   "metadata": {
    "id": "fIXxsX3Y2-G5"
   },
   "source": [
    "####  関数"
   ]
  },
  {
   "cell_type": "code",
   "execution_count": null,
   "metadata": {
    "colab": {
     "base_uri": "https://localhost:8080/"
    },
    "id": "WKW7xi332-G5",
    "outputId": "408be293-6482-47dd-ecfc-e4ca23feca55"
   },
   "outputs": [],
   "source": [
    "# 関数の定義例\n",
    "def square(x):\n",
    "    p2 = x * x\n",
    "    return p2\n",
    "\n",
    "# 関数の呼び出し例\n",
    "x1 = 13\n",
    "r1 = square(x1)\n",
    "print(x1, r1)"
   ]
  },
  {
   "cell_type": "code",
   "execution_count": null,
   "metadata": {
    "colab": {
     "base_uri": "https://localhost:8080/"
    },
    "id": "EnWVLp8o2-G_",
    "outputId": "c8977d36-385a-4049-c2ff-d2c028846ed9"
   },
   "outputs": [],
   "source": [
    "#  関数の定義例2\n",
    "def squares(x):\n",
    "    p2 = x * x\n",
    "    p3= x * x * x\n",
    "    return (p2, p3)\n",
    "\n",
    "# 関数の呼び出し例\n",
    "x1 = 13\n",
    "p2, p3 = squares(x1)\n",
    "print(x1, p2, p3)"
   ]
  },
  {
   "cell_type": "markdown",
   "metadata": {
    "id": "-lBmLd-D2-HC"
   },
   "source": [
    "#### ライプラリの導入"
   ]
  },
  {
   "cell_type": "code",
   "execution_count": null,
   "metadata": {
    "colab": {
     "base_uri": "https://localhost:8080/"
    },
    "id": "coRwycFH2-HD",
    "outputId": "070b9219-0688-4279-c72a-6ca0212db242"
   },
   "outputs": [],
   "source": [
    "# 日本語化ライブラリ導入\n",
    "!pip install japanize-matplotlib | tail -n 1"
   ]
  },
  {
   "cell_type": "markdown",
   "metadata": {
    "id": "pIlNIJ5b2-HF"
   },
   "source": [
    "#### import文"
   ]
  },
  {
   "cell_type": "code",
   "execution_count": null,
   "metadata": {
    "id": "4256qlzn2-HG"
   },
   "outputs": [],
   "source": [
    "# 必要ライブラリのimport\n",
    "import pandas as pd\n",
    "import numpy as np\n",
    "import matplotlib.pyplot as plt\n",
    "\n",
    "# matplotlib日本語化対応\n",
    "import japanize_matplotlib\n",
    "\n",
    "# データフレーム表示用関数\n",
    "from IPython.display import display"
   ]
  },
  {
   "cell_type": "markdown",
   "metadata": {
    "id": "sBjLfxG02-HY"
   },
   "source": [
    "#### 数値の整形表示"
   ]
  },
  {
   "cell_type": "code",
   "execution_count": null,
   "metadata": {
    "colab": {
     "base_uri": "https://localhost:8080/"
    },
    "id": "kRbJQtIu2-HZ",
    "outputId": "62ef6d9b-d7d9-4a3a-91fb-6b9b2a7e8c94"
   },
   "outputs": [],
   "source": [
    "# f文字列の表示\n",
    "a1 = 1.0/7.0\n",
    "a2 = 123\n",
    "\n",
    "str1 = f'a1 = {a1}   a2 = {a2}'\n",
    "print(str1)"
   ]
  },
  {
   "cell_type": "code",
   "execution_count": null,
   "metadata": {
    "colab": {
     "base_uri": "https://localhost:8080/"
    },
    "id": "U-J22Vwg2-Hc",
    "outputId": "bba9602a-2f10-47f9-97e4-cf8779d30f82"
   },
   "outputs": [],
   "source": [
    "# f文字列の詳細オプション\n",
    "\n",
    "# .4f 小数点以下4桁の固定小数点表示\n",
    "# 04 整数を0詰め4桁表示\n",
    "str2 = f'a1 = {a1:.4f}  a2 = {a2:04}'\n",
    "print(str2)\n",
    "\n",
    "# 04e 小数点以下4桁の浮動小数点表示\n",
    "# #x 整数の16進数表示\n",
    "str3 = f'a1 = {a1:.04e}  a2 = {a2:#x}'\n",
    "print(str3)"
   ]
  },
  {
   "cell_type": "code",
   "execution_count": null,
   "metadata": {
    "id": "6fN1g2E42-Hj"
   },
   "outputs": [],
   "source": []
  }
 ],
 "metadata": {
  "colab": {
   "provenance": [],
   "toc_visible": true
  },
  "kernelspec": {
   "display_name": "Python 3",
   "language": "python",
   "name": "python3"
  },
  "language_info": {
   "codemirror_mode": {
    "name": "ipython",
    "version": 3
   },
   "file_extension": ".py",
   "mimetype": "text/x-python",
   "name": "python",
   "nbconvert_exporter": "python",
   "pygments_lexer": "ipython3",
   "version": "3.7.6"
  }
 },
 "nbformat": 4,
 "nbformat_minor": 0
}
