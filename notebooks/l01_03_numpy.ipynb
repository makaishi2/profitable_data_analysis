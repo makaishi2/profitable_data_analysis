{
 "cells": [
  {
   "cell_type": "markdown",
   "metadata": {
    "id": "cDmhMeCpMPWE"
   },
   "source": [
    "## 講座1.3 Numpy入門"
   ]
  },
  {
   "cell_type": "markdown",
   "metadata": {
    "id": "MGQMeTlMMPWG"
   },
   "source": [
    "### NumPyの定義"
   ]
  },
  {
   "cell_type": "markdown",
   "metadata": {
    "id": "ggNXTDfNMPWG"
   },
   "source": [
    "#### ライブラリインポート"
   ]
  },
  {
   "cell_type": "code",
   "execution_count": null,
   "metadata": {
    "id": "XzLL20oCMPWH"
   },
   "outputs": [],
   "source": [
    "# ライブラリのインポート\n",
    "import numpy as np\n",
    "\n",
    "# NumPyの浮動小数点の表示精度\n",
    "np.set_printoptions(suppress=True, precision=4)"
   ]
  },
  {
   "cell_type": "markdown",
   "metadata": {
    "id": "JIzRy8X3MPWI"
   },
   "source": [
    "#### NumPyデータ定義"
   ]
  },
  {
   "cell_type": "code",
   "execution_count": null,
   "metadata": {
    "id": "zyk63wrnMPWI"
   },
   "outputs": [],
   "source": [
    "# NumPyデータ定義\n",
    "\n",
    "# 1次元配列変数の定義\n",
    "a = np.array([1, 2, 3, 4, 5, 6, 7])\n",
    "\n",
    "# 2次元配列変数の定義\n",
    "b = np.array([[1, 2, 3], [4, 5, 6], [7, 8, 9],[10,11,12]])"
   ]
  },
  {
   "cell_type": "markdown",
   "metadata": {
    "id": "xiDA3UYZMPWI"
   },
   "source": [
    "#### 内容表示"
   ]
  },
  {
   "cell_type": "code",
   "execution_count": null,
   "metadata": {
    "colab": {
     "base_uri": "https://localhost:8080/"
    },
    "id": "pQ_5SGzjMPWJ",
    "outputId": "8cfcf2e4-3fc9-4f33-a3af-fc100ada1ff8"
   },
   "outputs": [],
   "source": [
    "# 内容表示\n",
    "\n",
    "# 1次元配列変数の表示\n",
    "print(a)\n",
    "\n",
    "# 2次元配列変数の表示\n",
    "print(b)"
   ]
  },
  {
   "cell_type": "markdown",
   "metadata": {
    "id": "lI1BP1bVMPWJ"
   },
   "source": [
    "#### 要素数の確認"
   ]
  },
  {
   "cell_type": "code",
   "execution_count": null,
   "metadata": {
    "colab": {
     "base_uri": "https://localhost:8080/"
    },
    "id": "ZBykZ1R0MPWJ",
    "outputId": "b7011c4e-393b-416d-ebdf-6f206d28d709"
   },
   "outputs": [],
   "source": [
    "# 要素数の確認\n",
    "\n",
    "# 1次元配列変数の表示\n",
    "print(a.shape)\n",
    "\n",
    "# 2次元配列変数の表示\n",
    "print(b.shape)\n",
    "\n",
    "# len関数の利用\n",
    "print(len(a))\n",
    "print(len(b))"
   ]
  },
  {
   "cell_type": "markdown",
   "metadata": {
    "id": "kJLQUPNcMPWJ"
   },
   "source": [
    "### NumPyの操作"
   ]
  },
  {
   "cell_type": "markdown",
   "metadata": {
    "id": "7rKjT8rMMPWJ"
   },
   "source": [
    "#### 特定列の抽出"
   ]
  },
  {
   "cell_type": "code",
   "execution_count": null,
   "metadata": {
    "colab": {
     "base_uri": "https://localhost:8080/"
    },
    "id": "04yqsu9AMPWJ",
    "outputId": "57782c62-739b-49aa-b32b-d9c8df03414f"
   },
   "outputs": [],
   "source": [
    "# 特定列の抽出\n",
    "\n",
    "# 0列\n",
    "c = b[:,0]\n",
    "print(c)\n",
    "\n",
    "# [0,1]列\n",
    "d = b[:,:2]\n",
    "print(d)"
   ]
  },
  {
   "cell_type": "markdown",
   "metadata": {
    "id": "CFDdUrvSMPWK"
   },
   "source": [
    "#### reshape関数"
   ]
  },
  {
   "cell_type": "code",
   "execution_count": null,
   "metadata": {
    "colab": {
     "base_uri": "https://localhost:8080/"
    },
    "id": "-qf6wx4YMPWK",
    "outputId": "37cfd84d-e1e1-430c-ae37-c2b6981502d4"
   },
   "outputs": [],
   "source": [
    "# reshape関数\n",
    "\n",
    "l = np.array(range(12))\n",
    "print(l)\n",
    "\n",
    "# 3行4列に変換\n",
    "m = l.reshape((3,4))\n",
    "print(m)"
   ]
  },
  {
   "cell_type": "markdown",
   "metadata": {
    "id": "Pkjs1QfvMPWK"
   },
   "source": [
    "#### 統計関数"
   ]
  },
  {
   "cell_type": "code",
   "execution_count": null,
   "metadata": {
    "colab": {
     "base_uri": "https://localhost:8080/"
    },
    "id": "XKd5hNMGMPWK",
    "outputId": "ea031c41-6f91-4b02-b26d-7d8f07e20645"
   },
   "outputs": [],
   "source": [
    "# 統計関数\n",
    "\n",
    "print(f'元の変数: {a}')\n",
    "\n",
    "a_sum = np.sum(a)\n",
    "print(f'和: {a_sum}')\n",
    "\n",
    "a_mean = np.mean(a)\n",
    "print(f'平均: {a_mean}')\n",
    "\n",
    "a_max = np.max(a)\n",
    "print(f'最大値: {a_max}')\n",
    "\n",
    "a_min = a.min()\n",
    "print(f'最小値: {a_min}')"
   ]
  },
  {
   "cell_type": "markdown",
   "metadata": {
    "id": "YswoBqJbMPWK"
   },
   "source": [
    "#### NumPy変数間の演算"
   ]
  },
  {
   "cell_type": "code",
   "execution_count": null,
   "metadata": {
    "colab": {
     "base_uri": "https://localhost:8080/"
    },
    "id": "Vul_dJJSMPWK",
    "outputId": "ae2c1e75-4aef-463e-d437-0954307e3727"
   },
   "outputs": [],
   "source": [
    "# 二つのNumPy配列 ytとypの準備\n",
    "yt = np.array([1, 1, 0, 1, 0, 1, 1, 0, 1, 1])\n",
    "yp = np.array([1, 1, 0, 1, 0, 1, 1, 1, 1, 1])\n",
    "print(yt)\n",
    "print(yp)"
   ]
  },
  {
   "cell_type": "code",
   "execution_count": null,
   "metadata": {
    "colab": {
     "base_uri": "https://localhost:8080/"
    },
    "id": "e0_Np_buMPWK",
    "outputId": "c8c74dc0-9329-487a-d792-024931ba5f01"
   },
   "outputs": [],
   "source": [
    "# 配列の各要素を同時に比較する\n",
    "w = (yt == yp)\n",
    "print(w)"
   ]
  },
  {
   "cell_type": "code",
   "execution_count": null,
   "metadata": {
    "colab": {
     "base_uri": "https://localhost:8080/"
    },
    "id": "NIj-FStUMPWK",
    "outputId": "8e73caef-0fa2-4483-c790-35df1131f53a"
   },
   "outputs": [],
   "source": [
    "# 更にこの結果にsum関数をかける\n",
    "print(w.sum())"
   ]
  },
  {
   "cell_type": "markdown",
   "metadata": {
    "id": "cszhkXRaMPWL"
   },
   "source": [
    "#### ブロードキャスト機能"
   ]
  },
  {
   "cell_type": "code",
   "execution_count": null,
   "metadata": {
    "colab": {
     "base_uri": "https://localhost:8080/"
    },
    "id": "f6Bpwo0CMPWL",
    "outputId": "5ba06eab-28f1-4ca6-cf18-1b48f8b49788"
   },
   "outputs": [],
   "source": [
    "# ブロードキャスト機能\n",
    "print(a)\n",
    "c = (a - np.min(a)) / (np.max(a) - np.min(a))\n",
    "print(c)"
   ]
  },
  {
   "cell_type": "markdown",
   "metadata": {
    "id": "fmloAlMr5pNW"
   },
   "source": [
    "#### ユニバーサル関数"
   ]
  },
  {
   "cell_type": "code",
   "execution_count": null,
   "metadata": {
    "colab": {
     "base_uri": "https://localhost:8080/"
    },
    "id": "sKTbQbf55tE6",
    "outputId": "7a6cad77-4d50-4d65-b863-46c3d3444368"
   },
   "outputs": [],
   "source": [
    "# ユニバーサル関数\n",
    "print(a)\n",
    "d = np.exp(-a)\n",
    "print(d)"
   ]
  },
  {
   "cell_type": "markdown",
   "metadata": {
    "id": "pI4vLgwfMPWL"
   },
   "source": [
    "#### 数値配列の生成"
   ]
  },
  {
   "cell_type": "code",
   "execution_count": null,
   "metadata": {
    "colab": {
     "base_uri": "https://localhost:8080/"
    },
    "id": "qQsp8VFvMPWL",
    "outputId": "4e7396f4-d8e4-4949-d65d-95f8a39cd47a"
   },
   "outputs": [],
   "source": [
    "# 数値配列の生成\n",
    "x = np.linspace(-5, 5, 11)\n",
    "print(x)"
   ]
  },
  {
   "cell_type": "code",
   "execution_count": null,
   "metadata": {
    "id": "twbyBixwMPWL"
   },
   "outputs": [],
   "source": []
  }
 ],
 "metadata": {
  "colab": {
   "provenance": [],
   "toc_visible": true
  },
  "kernelspec": {
   "display_name": "Python 3",
   "language": "python",
   "name": "python3"
  },
  "language_info": {
   "codemirror_mode": {
    "name": "ipython",
    "version": 3
   },
   "file_extension": ".py",
   "mimetype": "text/x-python",
   "name": "python",
   "nbconvert_exporter": "python",
   "pygments_lexer": "ipython3",
   "version": "3.7.6"
  }
 },
 "nbformat": 4,
 "nbformat_minor": 0
}
