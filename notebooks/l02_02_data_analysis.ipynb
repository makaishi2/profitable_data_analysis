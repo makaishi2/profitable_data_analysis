{
  "cells": [
    {
      "cell_type": "markdown",
      "metadata": {
        "id": "QS5d7-FrNHlJ"
      },
      "source": [
        "## 講座2.2 Pythonによるデータ分析入門"
      ]
    },
    {
      "cell_type": "markdown",
      "metadata": {
        "id": "EBkD9IQSd5jA"
      },
      "source": [
        "#### 共通事前処理"
      ]
    },
    {
      "cell_type": "code",
      "execution_count": null,
      "metadata": {
        "id": "rtSyC6FRP2h8"
      },
      "outputs": [],
      "source": [
        "# 日本語化ライブラリ導入\n",
        "!pip install japanize-matplotlib | tail -n 1"
      ]
    },
    {
      "cell_type": "code",
      "execution_count": null,
      "metadata": {
        "id": "7GZL8VtyPrs0"
      },
      "outputs": [],
      "source": [
        "# 共通事前処理\n",
        "\n",
        "# 必要ライブラリのimport\n",
        "import pandas as pd\n",
        "import numpy as np\n",
        "import matplotlib.pyplot as plt\n",
        "\n",
        "# matplotlib日本語化対応\n",
        "import japanize_matplotlib\n",
        "\n",
        "# データフレーム表示用関数\n",
        "from IPython.display import display\n",
        "\n",
        "# pandasでの浮動小数点の表示精度\n",
        "pd.options.display.float_format = '{:.2f}'.format\n",
        "\n",
        "# 余分なワーニングを非表示にする\n",
        "import warnings\n",
        "warnings.filterwarnings('ignore')"
      ]
    },
    {
      "cell_type": "markdown",
      "metadata": {
        "id": "YeKOk-JwNOgd"
      },
      "source": [
        "### 欠損値対応"
      ]
    },
    {
      "cell_type": "markdown",
      "metadata": {
        "id": "4j9OBYgLdbOL"
      },
      "source": [
        "#### データ読み込み"
      ]
    },
    {
      "cell_type": "code",
      "execution_count": null,
      "metadata": {
        "id": "bIuf7DHmNG5N"
      },
      "outputs": [],
      "source": [
        "# 分析対象データCSV\n",
        "df1_fn = 'l02_02_bridge.csv'\n",
        "\n",
        "# 分析対象データをdfに代入\n",
        "df1 = pd.read_csv(df1_fn)\n",
        "\n",
        "# 先頭5行の表示\n",
        "display(df1.head())"
      ]
    },
    {
      "cell_type": "markdown",
      "metadata": {
        "id": "vOhpiB79QV81"
      },
      "source": [
        "#### 欠損値確認"
      ]
    },
    {
      "cell_type": "code",
      "execution_count": null,
      "metadata": {
        "id": "8-S8oYQgQk2q"
      },
      "outputs": [],
      "source": [
        "# 欠損値を含めてMATERIALの値ごとの件数をカウント\n",
        "df1['MATERIAL'].value_counts(dropna=False)"
      ]
    },
    {
      "cell_type": "markdown",
      "metadata": {
        "id": "2OF5yZxFQOZv"
      },
      "source": [
        "#### 欠損値除去"
      ]
    },
    {
      "cell_type": "code",
      "execution_count": null,
      "metadata": {
        "id": "kMe-LsY4QDcj"
      },
      "outputs": [],
      "source": [
        "# MATERIALの欠損値を行ごと削除\n",
        "df2 = df1.dropna(subset=['MATERIAL'])\n",
        "\n",
        "# 欠損値を含めてMATERIALの値ごとの件数をカウント\n",
        "df2['MATERIAL'].value_counts(dropna=False)"
      ]
    },
    {
      "cell_type": "markdown",
      "metadata": {
        "id": "O9hGfLO7TDso"
      },
      "source": [
        "#### 値補填"
      ]
    },
    {
      "cell_type": "code",
      "execution_count": null,
      "metadata": {
        "id": "rDm6_vyLQFUN"
      },
      "outputs": [],
      "source": [
        "# MATERIALの欠損値を'STEEL'で補填\n",
        "df3 = df1.fillna({'MATERIAL':'STEEL'})\n",
        "\n",
        "# 欠損値を含めてMATERIALの値ごとの件数をカウント\n",
        "df3['MATERIAL'].value_counts(dropna=False)"
      ]
    },
    {
      "cell_type": "markdown",
      "metadata": {
        "id": "NaW1DWbJb8CN"
      },
      "source": [
        "### スケーリング"
      ]
    },
    {
      "cell_type": "markdown",
      "metadata": {
        "id": "rgC4UR0xdv8u"
      },
      "source": [
        "#### データ読み込み・確認"
      ]
    },
    {
      "cell_type": "code",
      "execution_count": null,
      "metadata": {
        "id": "OttxoCn8TuEM"
      },
      "outputs": [],
      "source": [
        "# 分析対象データCSV\n",
        "df4_fn = 'l02_02_bank-j.csv'\n",
        "\n",
        "# データ読み込み\n",
        "df4 = pd.read_csv(df4_fn)\n",
        "\n",
        "# 先頭5行の表示\n",
        "display(df4[['残高']].head().T)\n",
        "\n",
        "# 残高の統計値確認\n",
        "display(df4[['残高']].describe().T.iloc[:,1:])"
      ]
    },
    {
      "cell_type": "markdown",
      "metadata": {
        "id": "uMlAy79lwT-C"
      },
      "source": [
        "#### 標準化"
      ]
    },
    {
      "cell_type": "code",
      "execution_count": null,
      "metadata": {
        "id": "rfouiE78fL9j"
      },
      "outputs": [],
      "source": [
        "# StandardScalerのインポート\n",
        "from sklearn.preprocessing import StandardScaler\n",
        "\n",
        "# StandardScalerインスタンスの生成\n",
        "sc1 = StandardScaler()\n",
        "\n",
        "df5 = df4.copy()\n",
        "# 項目「残高」に標準化をかける\n",
        "df5['残高'] = sc1.fit_transform(df5[['残高']])\n",
        "\n",
        "# 先頭5行の表示\n",
        "display(df5[['残高']].head().T)\n",
        "\n",
        "# 残高の統計値確認\n",
        "display(df5[['残高']].describe().T.iloc[:,1:])\n"
      ]
    },
    {
      "cell_type": "markdown",
      "metadata": {
        "id": "JUIqfVxgw0Zx"
      },
      "source": [
        "#### 正規化"
      ]
    },
    {
      "cell_type": "code",
      "execution_count": null,
      "metadata": {
        "id": "ug3ODMPfqkXR"
      },
      "outputs": [],
      "source": [
        "# MinMaxScalerのインポート\n",
        "from sklearn.preprocessing import MinMaxScaler\n",
        "\n",
        "# MinMaxScalerインスタンスを範囲[0, 1]で生成\n",
        "sc2 = MinMaxScaler(feature_range=(0, 1), copy=True)\n",
        "\n",
        "df6 = df4.copy()\n",
        "# 「残高」に正規化をかける\n",
        "df6['残高'] = sc2.fit_transform(df6[['残高']])\n",
        "\n",
        "# 先頭5行の表示\n",
        "display(df6[['残高']].head().T)\n",
        "\n",
        "# 残高の統計値確認\n",
        "display(df6[['残高']].describe().T.iloc[:,1:])\n"
      ]
    },
    {
      "cell_type": "markdown",
      "metadata": {
        "id": "wZNZ6j-AQzbf"
      },
      "source": [
        "### エンコーディング"
      ]
    },
    {
      "cell_type": "markdown",
      "metadata": {
        "id": "KngzXbZNWU8C"
      },
      "source": [
        "#### データ読み込み・確認"
      ]
    },
    {
      "cell_type": "code",
      "execution_count": null,
      "metadata": {
        "id": "qkao4TfuTCyd"
      },
      "outputs": [],
      "source": [
        "# 分析対象データCSV\n",
        "df7_fn = 'l02_02_bank-j.csv'\n",
        "\n",
        "# データ読み込み\n",
        "df7 = pd.read_csv(df7_fn)\n",
        "\n",
        "# 先頭5行の表示\n",
        "display(df7[['学歴']].head().T)\n",
        "\n",
        "# 学歴のカテゴリ値確認\n",
        "display(df7[['学歴']].value_counts())\n"
      ]
    },
    {
      "cell_type": "markdown",
      "metadata": {
        "id": "EiOtReCAY4PY"
      },
      "source": [
        "#### ラベルエンコーディング"
      ]
    },
    {
      "cell_type": "code",
      "execution_count": null,
      "metadata": {
        "id": "bAEeriY0Q6Zo"
      },
      "outputs": [],
      "source": [
        "# LabelEncoderのインポート\n",
        "from sklearn.preprocessing import LabelEncoder\n",
        "\n",
        "# LabelEncoderのインスタンス生成\n",
        "le = LabelEncoder()\n",
        "\n",
        "df8 = df7.copy()\n",
        "# ラベルエンコーディングの実施\n",
        "df8['学歴_ENC'] = le.fit_transform(df8['学歴'])\n",
        "\n",
        "# 結果確認\n",
        "display(df8[['学歴', '学歴_ENC']].head())"
      ]
    },
    {
      "cell_type": "markdown",
      "metadata": {
        "id": "O9uQrecmZADH"
      },
      "source": [
        "#### ワン・ホット・エンコーディング"
      ]
    },
    {
      "cell_type": "code",
      "execution_count": null,
      "metadata": {
        "id": "B0Fu8TzbS1qm"
      },
      "outputs": [],
      "source": [
        "df9 = df7.copy()\n",
        "\n",
        "# df9: 項目「学歴」のみ抽出\n",
        "df9 = df9[['学歴']]\n",
        "\n",
        "# df10: 項目「学歴」をone hot encoding\n",
        "df10 = pd.get_dummies(df9, columns=['学歴'])\n",
        "\n",
        "# df11: 比較のため、2つのデータフレームを横連結\n",
        "df11 = pd.concat([df9, df10], axis=1)\n",
        "\n",
        "# 結果の先頭5行を確認\n",
        "display(df11.head())"
      ]
    },
    {
      "cell_type": "markdown",
      "metadata": {
        "id": "BEn_iilIekSM"
      },
      "source": [
        "### 回帰モデルの精度評価"
      ]
    },
    {
      "cell_type": "markdown",
      "metadata": {
        "id": "7bMXKv0H3but"
      },
      "source": [
        "#### データ準備"
      ]
    },
    {
      "cell_type": "code",
      "execution_count": null,
      "metadata": {
        "id": "PCsn0JJhXOnY"
      },
      "outputs": [],
      "source": [
        "df12_fn = 'l02_02_day-j.csv'\n",
        "df12 = pd.read_csv(df12_fn, parse_dates=['日付'])\n",
        "\n",
        "# 「季節」「曜日」「天気」列をカテゴリ変数に変換\n",
        "df12[['季節','曜日','天気']] = df12[['季節','曜日','天気']].astype('category')\n",
        "\n",
        "# 目的変数 y を「登録ユーザー利用数」に設定\n",
        "y = df12['登録ユーザー利用数']\n",
        "\n",
        "# 説明変数 X を指定された項目を除いたデータフレームとして設定\n",
        "X = df12.drop(['日付', '登録ユーザー利用数', '臨時ユーザー利用数', '全体ユーザー利用数'], axis=1)\n",
        "\n",
        "# データを訓練用とテスト用に分割するための基準日を設定\n",
        "split_date = pd.Timestamp(\"2012-11-01\")\n",
        "train_dates, test_dates = (df12['日付'] < split_date), (df12['日付'] >= split_date)\n",
        "\n",
        "# 訓練用データとテスト用データに分割\n",
        "X_train, X_test = X[train_dates], X[test_dates]\n",
        "y_train, y_test = y[train_dates], y[test_dates]\n",
        "\n",
        "# lightgbm回帰モデルのインポート\n",
        "from lightgbm import LGBMRegressor\n",
        "\n",
        "# lightgbm回帰モデルのインスタンスを作成\n",
        "model = LGBMRegressor(num_threads=4, verbose=-1)\n",
        "\n",
        "# モデルの学習を実行（scikit-learn互換のfit関数を使用）\n",
        "model.fit(X_train, y_train)\n",
        "\n",
        "# 構築したモデルを用いてテストデータ X_test に対する予測を実施\n",
        "y_pred = model.predict(X_test)"
      ]
    },
    {
      "cell_type": "markdown",
      "metadata": {
        "id": "xWPDeWe-Ivaq"
      },
      "source": [
        "$$\n",
        "\\begin{align*}\n",
        "&\\text{MSE} = \\frac{1}{\\text{N}}\\sum_{k=1}^\\text{N} (\\widehat{y}^{(k)} - y^{(k)})^2\\\\\n",
        "&\\text{RMSE} = \\sqrt{\\text{MSE}}\n",
        "\\end{align*}\n",
        "$$"
      ]
    },
    {
      "cell_type": "markdown",
      "metadata": {
        "id": "NYqIFHdU3juv"
      },
      "source": [
        "#### RMSE(直接計算)"
      ]
    },
    {
      "cell_type": "code",
      "execution_count": null,
      "metadata": {
        "id": "FhSaBCYj5dEh"
      },
      "outputs": [],
      "source": [
        "# 平均値・標準偏差の算出\n",
        "y_mean, y_std = y_test.mean(), y_test.std()\n",
        "\n",
        "# 定義式に基づくMSEの計算\n",
        "mse = ((y_test-y_pred)**2).mean()\n",
        "\n",
        "# 定義式に基づくRMSEの計算\n",
        "rmse = np.sqrt(mse)\n",
        "\n",
        "# 結果確認\n",
        "print(f'平均: {y_mean:.02f} 標準偏差: {y_std:.02f} MSE: {mse:.02f} RMSE: {rmse:.02f}')"
      ]
    },
    {
      "cell_type": "markdown",
      "metadata": {
        "id": "KlGGTGg-3xSp"
      },
      "source": [
        "#### RMSE(ライブラリ利用)"
      ]
    },
    {
      "cell_type": "code",
      "execution_count": null,
      "metadata": {
        "id": "JWVDF30jedO7"
      },
      "outputs": [],
      "source": [
        "from sklearn.metrics import mean_squared_error\n",
        "\n",
        "# RMSEの計算\n",
        "mse = mean_squared_error(y_test, y_pred)\n",
        "rmse = np.sqrt(mse)\n",
        "\n",
        "# 結果確認\n",
        "print(f'MSE: {mse:.02f} RMSE: {rmse:.02f}')"
      ]
    },
    {
      "cell_type": "markdown",
      "metadata": {
        "id": "Jd8-4NQy33Yy"
      },
      "source": [
        "#### R2値"
      ]
    },
    {
      "cell_type": "code",
      "execution_count": null,
      "metadata": {
        "id": "z9QJBPfDQnwu"
      },
      "outputs": [],
      "source": [
        "from sklearn.metrics import r2_score\n",
        "\n",
        "# R2値の計算\n",
        "r2 = r2_score(y_test, y_pred)\n",
        "\n",
        "# 結果確認\n",
        "print(f'r2: {r2:.03f}')"
      ]
    },
    {
      "cell_type": "markdown",
      "metadata": {
        "id": "9_2tFqm6etG4"
      },
      "source": [
        "### 分類モデルの精度評価"
      ]
    },
    {
      "cell_type": "markdown",
      "metadata": {
        "id": "8ChcLSms37C8"
      },
      "source": [
        "#### データ準備"
      ]
    },
    {
      "cell_type": "code",
      "execution_count": null,
      "metadata": {
        "id": "DDyvQ6CiedZj"
      },
      "outputs": [],
      "source": [
        "df13_fn = 'l02_02_bank-j.csv'\n",
        "\n",
        "# CSVファイルを読み込み、データフレーム変数 df13 に代入\n",
        "df13 = pd.read_csv(df13_fn)\n",
        "\n",
        "# 「直前接触日」列の値が -1 のものを 9999 に置き換える\n",
        "df13['直前接触日'] = df13['直前接触日'].replace(-1, 9999)\n",
        "\n",
        "# 「月」列の英語表記を1から12の数字に置き換える\n",
        "month_mapping = {\n",
        "    'jan': 1, 'feb': 2, 'mar': 3, 'apr': 4, 'may': 5, 'jun': 6,\n",
        "    'jul': 7, 'aug': 8, 'sep': 9, 'oct': 10, 'nov': 11, 'dec': 12\n",
        "}\n",
        "df13['月'] = df13['月'].map(month_mapping)\n",
        "\n",
        "# 数値項目以外のデータ型をカテゴリ型に変換\n",
        "numeric_columns = df13.select_dtypes(include='number').columns\n",
        "difference_columns = df13.columns.difference(numeric_columns)\n",
        "df13[difference_columns] = df13[difference_columns].astype('category')\n",
        "\n",
        "from sklearn.preprocessing import LabelEncoder\n",
        "# カテゴリ型の列のみをラベルエンコーディング\n",
        "label_encoders = {}\n",
        "for column in df13.select_dtypes(include='category').columns:\n",
        "    le = LabelEncoder()\n",
        "    df13[column] = le.fit_transform(df13[column])\n",
        "\n",
        "# 説明変数Xと目的変数yに分離し、通話時間をXから除外\n",
        "X = df13.drop(columns=['申込有無', '通話時間'])  # 通話時間と申込有無を除外してXを作成\n",
        "y = df13['申込有無']  # 目的変数yを作成\n",
        "\n",
        "from sklearn.model_selection import train_test_split\n",
        "# 説明変数Xと目的変数yを4:1の比率で分割し、乱数シードを123に設定\n",
        "X_train, X_test, y_train, y_test = train_test_split(X, y, test_size=0.2, random_state=123)\n",
        "\n",
        "from lightgbm import LGBMClassifier\n",
        "# LightGBM分類モデルを構築\n",
        "# モデルを初期化。num_threads=4、メッセージ出力をオフ\n",
        "model = LGBMClassifier(num_threads=4, verbose=-1)\n",
        "model.fit(X_train, y_train)  # モデルの学習\n",
        "\n",
        "# 構築したモデルを用いて、テストデータ X_test に対する予測を実施\n",
        "y_pred = model.predict(X_test)  # 予測結果を y_pred に代入"
      ]
    },
    {
      "cell_type": "markdown",
      "metadata": {
        "id": "XKiJE1AU4GYO"
      },
      "source": [
        "#### 混同行列表示"
      ]
    },
    {
      "cell_type": "code",
      "execution_count": null,
      "metadata": {
        "id": "s5fhgsflXSWa"
      },
      "outputs": [],
      "source": [
        "import seaborn as sns\n",
        "from sklearn.metrics import confusion_matrix\n",
        "\n",
        "# 混同行列を作成\n",
        "cm = confusion_matrix(y_test, y_pred)\n",
        "\n",
        "# 混同行列をヒートマップ表示\n",
        "plt.figure(figsize=(3, 3))\n",
        "# ヒートマップの描画\n",
        "sns.heatmap(cm, annot=True, fmt='d', cmap='Blues', cbar=False,\n",
        "    xticklabels=[\"非申込\", \"申込\"], yticklabels=[\"非申込\", \"申込\"])\n",
        "plt.xlabel(\"予測値\")\n",
        "plt.ylabel(\"正解値\")\n",
        "plt.title(\"混同行列\")\n",
        "\n",
        "# グラフを表示\n",
        "create_pdf()\n",
        "plt.show()"
      ]
    },
    {
      "cell_type": "markdown",
      "metadata": {
        "id": "pUtjESe54TaH"
      },
      "source": [
        "#### 適合率・再現率・F値の計算"
      ]
    },
    {
      "cell_type": "code",
      "execution_count": null,
      "metadata": {
        "id": "YNwIl965edcX"
      },
      "outputs": [],
      "source": [
        "from sklearn.metrics import precision_score, recall_score, f1_score\n",
        "\n",
        "# クラス1（申込あり）に対して、適合率、再現率、F値を算出\n",
        "precision = precision_score(y_test, y_pred, pos_label=1)\n",
        "recall = recall_score(y_test, y_pred, pos_label=1)\n",
        "f1 = f1_score(y_test, y_pred, pos_label=1)\n",
        "\n",
        "print(f'適合率: {precision:.03f} 再現率:{recall:.03f} F値:{f1:.03f}')"
      ]
    },
    {
      "cell_type": "markdown",
      "metadata": {
        "id": "sxXJsIL34bIu"
      },
      "source": [
        "#### PR曲線の描画"
      ]
    },
    {
      "cell_type": "code",
      "execution_count": null,
      "metadata": {
        "id": "po2y4H5KZLYV"
      },
      "outputs": [],
      "source": [
        "from sklearn.metrics import precision_recall_curve\n",
        "\n",
        "# クラス1に対する予測確率を算出\n",
        "y_pred_proba = model.predict_proba(X_test)[:, 1]  # クラス1の確率を取得\n",
        "\n",
        "# クラス1に対するPR曲線のデータを取得\n",
        "precision, recall, thresholds = precision_recall_curve(y_test, y_pred_proba, pos_label=1)\n",
        "\n",
        "# PR曲線を描画\n",
        "plt.figure(figsize=(4, 4))\n",
        "plt.plot(recall, precision, label=\"PR曲線 (クラス1)\")\n",
        "plt.xlabel(\"再現率 (Recall)\")\n",
        "plt.ylabel(\"適合率 (Precision)\")\n",
        "plt.title(\"PR曲線 (クラス1: 申込あり)\")\n",
        "plt.legend(loc=\"lower left\")\n",
        "plt.grid()\n",
        "plt.show()"
      ]
    },
    {
      "cell_type": "markdown",
      "metadata": {
        "id": "0dIFl4ZQ4ggB"
      },
      "source": [
        "#### ROC曲線の描画"
      ]
    },
    {
      "cell_type": "code",
      "execution_count": null,
      "metadata": {
        "id": "IWNvFBvzZLTM"
      },
      "outputs": [],
      "source": [
        "from sklearn.metrics import roc_curve\n",
        "\n",
        "# クラス1に対する予測確率を算出\n",
        "y_pred_proba = model.predict_proba(X_test)[:, 1]  # クラス1の確率を取得\n",
        "\n",
        "# ROC曲線のデータを取得\n",
        "fpr, tpr, thresholds = roc_curve(y_test, y_pred_proba, pos_label=1)\n",
        "\n",
        "# ROC曲線を描画\n",
        "plt.figure(figsize=(4, 4))\n",
        "plt.plot(fpr, tpr, label=\"ROC曲線 (クラス1)\")\n",
        "plt.plot([0, 1], [0, 1], 'k--', label=\"ランダム予測\")\n",
        "plt.xlabel(\"偽陽性率 (FPR)\")\n",
        "plt.ylabel(\"真陽性率 (TPR)\")\n",
        "plt.title(\"ROC曲線 (クラス1: 申込あり)\")\n",
        "plt.legend(loc=\"lower right\")\n",
        "plt.grid()\n",
        "plt.show()"
      ]
    },
    {
      "cell_type": "code",
      "execution_count": null,
      "metadata": {
        "id": "sLNGGEalZLdg"
      },
      "outputs": [],
      "source": [
        "from sklearn.metrics import roc_auc_score\n",
        "\n",
        "# ROC曲線下の面積（AUC）を算出\n",
        "roc_auc = roc_auc_score(y_test, y_pred_proba)\n",
        "\n",
        "print(f'ROC AUC:{roc_auc:.03f}')"
      ]
    },
    {
      "cell_type": "code",
      "execution_count": null,
      "metadata": {
        "id": "V3e4QPs1cIt3"
      },
      "outputs": [],
      "source": []
    },
    {
      "cell_type": "markdown",
      "metadata": {
        "id": "zt_hATNmcJmz"
      },
      "source": [
        "### EXCEL生成"
      ]
    },
    {
      "cell_type": "code",
      "execution_count": null,
      "metadata": {
        "id": "17Kg11jBZQCd"
      },
      "outputs": [],
      "source": []
    },
    {
      "cell_type": "code",
      "execution_count": null,
      "metadata": {
        "id": "YXyg7tQnZQG6"
      },
      "outputs": [],
      "source": [
        "df4[['残高']].head().T.to_excel('table-A02-02-04-1.xlsx')\n",
        "df4[['残高']].describe().T.iloc[:,1:].to_excel('table-A02-02-04-2.xlsx')"
      ]
    },
    {
      "cell_type": "code",
      "execution_count": null,
      "metadata": {
        "id": "gPEEK9IcZQ0N"
      },
      "outputs": [],
      "source": [
        "df5[['残高']].head().T.to_excel('table-A02-02-05-1.xlsx')\n",
        "df5[['残高']].describe().T.iloc[:,1:].to_excel('table-A02-02-05-2.xlsx')"
      ]
    },
    {
      "cell_type": "code",
      "execution_count": null,
      "metadata": {
        "id": "kdp6hUQQZZDE"
      },
      "outputs": [],
      "source": [
        "df6[['残高']].head().T.to_excel('table-A02-02-06-1.xlsx')\n",
        "df6[['残高']].describe().T.iloc[:,1:].to_excel('table-A02-02-06-2.xlsx')"
      ]
    },
    {
      "cell_type": "code",
      "execution_count": null,
      "metadata": {
        "id": "OLKD4t9ZeAs7"
      },
      "outputs": [],
      "source": [
        "df7[['学歴']].head().T.to_excel('table-A02-02-07-1.xlsx')"
      ]
    },
    {
      "cell_type": "code",
      "execution_count": null,
      "metadata": {
        "id": "RZp-OB4weQ7k"
      },
      "outputs": [],
      "source": [
        "df7[['学歴']].value_counts().to_excel('table-A02-02-07-2.xlsx')"
      ]
    },
    {
      "cell_type": "code",
      "execution_count": null,
      "metadata": {
        "id": "x7ajo-0HZciW"
      },
      "outputs": [],
      "source": [
        "df8[['学歴', '学歴_ENC']].head().to_excel('table-A02-02-08.xlsx')"
      ]
    },
    {
      "cell_type": "code",
      "execution_count": null,
      "metadata": {
        "id": "TJRW5z9BaITJ"
      },
      "outputs": [],
      "source": [
        "df11.head().to_excel('table-A02-02-09.xlsx')"
      ]
    },
    {
      "cell_type": "code",
      "execution_count": null,
      "metadata": {
        "id": "atE3is2HaSVZ"
      },
      "outputs": [],
      "source": [
        "# PDF印刷用\n",
        "from matplotlib_inline.backend_inline import set_matplotlib_formats\n",
        "set_matplotlib_formats('png', 'pdf')\n",
        "\n",
        "try:\n",
        "    from google.colab import files\n",
        "except:\n",
        "    pass\n",
        "\n",
        "pdf_ind = 2\n",
        "pdf_base = 'pdf-01-'\n",
        "\n",
        "def create_pdf():\n",
        "    global pdf_ind, pdf_base\n",
        "    fn = f'{pdf_base}{pdf_ind:02d}.pdf'\n",
        "    print(fn)\n",
        "    plt.rcParams['figure.subplot.bottom'] = 0.3\n",
        "    plt.rcParams['figure.subplot.left'] = 0.3\n",
        "    plt.savefig(fn)\n",
        "    try:\n",
        "        files.download(fn)\n",
        "    except:\n",
        "        pass\n",
        "    pdf_ind = pdf_ind + 1"
      ]
    },
    {
      "cell_type": "code",
      "execution_count": null,
      "metadata": {
        "id": "cyRHPOck8MRJ"
      },
      "outputs": [],
      "source": []
    }
  ],
  "metadata": {
    "colab": {
      "provenance": [],
      "toc_visible": true
    },
    "kernelspec": {
      "display_name": "Python 3",
      "name": "python3"
    },
    "language_info": {
      "name": "python"
    }
  },
  "nbformat": 4,
  "nbformat_minor": 0
}