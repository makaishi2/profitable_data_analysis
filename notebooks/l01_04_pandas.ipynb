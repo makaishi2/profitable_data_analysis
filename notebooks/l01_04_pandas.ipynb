{
  "cells": [
    {
      "cell_type": "markdown",
      "metadata": {
        "id": "4gGRZm4npjrz"
      },
      "source": [
        "## 講座 1.4 Pandas入門"
      ]
    },
    {
      "cell_type": "markdown",
      "metadata": {
        "id": "nHmayxj0pjr0"
      },
      "source": [
        "### データフレーム定義"
      ]
    },
    {
      "cell_type": "markdown",
      "metadata": {
        "id": "C_lVnAsOpjr0"
      },
      "source": [
        "#### ライブラリインポート"
      ]
    },
    {
      "cell_type": "code",
      "execution_count": null,
      "metadata": {
        "id": "BCjiKeO2pjr1"
      },
      "outputs": [],
      "source": [
        "# ライブラリのimport\n",
        "\n",
        "# NumPy用ライブラリ\n",
        "import numpy as np\n",
        "\n",
        "# pandas用ライブラリ\n",
        "import pandas as pd\n",
        "\n",
        "# データフレーム表示用関数\n",
        "from IPython.display import display\n",
        "\n",
        "# データフレームでの表示精度\n",
        "pd.options.display.float_format = '{:.4f}'.format\n",
        "\n",
        "# データフレームですべての項目を表示\n",
        "pd.set_option(\"display.max_columns\",None)"
      ]
    },
    {
      "cell_type": "markdown",
      "metadata": {
        "id": "RV7cWulfpjr4"
      },
      "source": [
        "#### データフレーム定義"
      ]
    },
    {
      "cell_type": "code",
      "execution_count": null,
      "metadata": {
        "id": "wa5sQtBFpjr4"
      },
      "outputs": [],
      "source": [
        "# NumPy2次元配列の定義\n",
        "b = np.array([\n",
        "[25, 140, 40.5],\n",
        "[36, 175, 70.2],\n",
        "[43, np.nan, 65.0],\n",
        "[31, 158, 55.6],])\n",
        "\n",
        "# 結果確認\n",
        "print(b)"
      ]
    },
    {
      "cell_type": "code",
      "execution_count": null,
      "metadata": {
        "id": "7kLfGAL4pjr7"
      },
      "outputs": [],
      "source": [
        "# データフレームの定義\n",
        "df1 = pd.DataFrame(b, columns=['年齢', '身長', '体重'])\n",
        "\n",
        "# 型表示\n",
        "print(type(df1))\n",
        "\n",
        "# display関数による整形表示\n",
        "display(df1)"
      ]
    },
    {
      "cell_type": "code",
      "execution_count": null,
      "metadata": {
        "id": "O31fAJwFpjr9"
      },
      "outputs": [],
      "source": [
        "# データフレームの各部品表示\n",
        "\n",
        "# 列名\n",
        "print('列名', df1.columns)\n",
        "\n",
        "# 行名\n",
        "print('行名', df1.index)\n",
        "\n",
        "# データ本体\n",
        "print('データ本体\\n', df1.values)"
      ]
    },
    {
      "cell_type": "markdown",
      "metadata": {
        "id": "_WkiLAW-pjsA"
      },
      "source": [
        "### ファイルからのデータ読み込み"
      ]
    },
    {
      "cell_type": "markdown",
      "metadata": {
        "id": "CUqqUdBWpjsA"
      },
      "source": [
        "#### CSVファイルからの読み込み"
      ]
    },
    {
      "cell_type": "code",
      "execution_count": null,
      "metadata": {
        "id": "ZVyNK5m_pjsA"
      },
      "outputs": [],
      "source": [
        "# CSVファイルからの読み込み\n",
        "\n",
        "# 読み込み元ファイル\n",
        "file1 = 'l01_04_df-sample1.csv'\n",
        "# データ読み込み\n",
        "df2 = pd.read_csv(file1)\n",
        "\n",
        "# 結果確認\n",
        "display(df2)"
      ]
    },
    {
      "cell_type": "code",
      "execution_count": null,
      "metadata": {
        "id": "C5nwfcNtpjsD"
      },
      "outputs": [],
      "source": [
        "# df2をコピーしてdf3にする\n",
        "df3 = df2.copy()\n",
        "\n",
        "# ファイル読み込み後の列名変更\n",
        "columns = ['age', 'height', 'weight']\n",
        "df3.columns = columns\n",
        "\n",
        "# 結果確認\n",
        "display(df3)"
      ]
    },
    {
      "cell_type": "markdown",
      "metadata": {
        "id": "QDaMz8DXpjsF"
      },
      "source": [
        "#### Excelファイルからの読み込み"
      ]
    },
    {
      "cell_type": "code",
      "execution_count": null,
      "metadata": {
        "id": "eOgg3IOopjsG"
      },
      "outputs": [],
      "source": [
        "# Excelファイルからの読み込み\n",
        "\n",
        "# 読み込み元ファイル\n",
        "file2 = 'l01_04_df-sample2.xlsx'\n",
        "\n",
        "# データ読み込み\n",
        "df4 = pd.read_excel(file2)\n",
        "\n",
        "# 結果確認\n",
        "display(df4)"
      ]
    },
    {
      "cell_type": "markdown",
      "metadata": {
        "id": "tnI4IsGHpjsI"
      },
      "source": [
        "### Series定義"
      ]
    },
    {
      "cell_type": "code",
      "execution_count": null,
      "metadata": {
        "id": "nyDX6ISlpjsI"
      },
      "outputs": [],
      "source": [
        "# 1次元NumPy配列の定義\n",
        "a = np.array(['男性', '女性', '男性', '女性'])\n",
        "\n",
        "# 結果確認\n",
        "print(a)"
      ]
    },
    {
      "cell_type": "code",
      "execution_count": null,
      "metadata": {
        "id": "h3QNSutjpjsK"
      },
      "outputs": [],
      "source": [
        "# Seriesの定義\n",
        "ser = pd.Series(a, name='性別')\n",
        "\n",
        "print(type(ser))\n",
        "\n",
        "print(ser)"
      ]
    },
    {
      "cell_type": "code",
      "execution_count": null,
      "metadata": {
        "id": "flUQQ12XpjsO"
      },
      "outputs": [],
      "source": [
        "# データフレームからSeriesを生成\n",
        "ser2 = df1['年齢']\n",
        "\n",
        "print(type(ser2))\n",
        "\n",
        "print(ser2)"
      ]
    },
    {
      "cell_type": "markdown",
      "metadata": {
        "id": "9doo0P4HpjsQ"
      },
      "source": [
        "### データフレームとNumPyの関係"
      ]
    },
    {
      "cell_type": "code",
      "execution_count": null,
      "metadata": {
        "id": "gAWFPi9xpjsQ"
      },
      "outputs": [],
      "source": [
        "# データフレームと2次元NumPy配列の関係\n",
        "\n",
        "# データフレームから2次元NumPy配列を取得\n",
        "ar = df1.values\n",
        "\n",
        "# 2次元NumPy配列からデータフレームを生成\n",
        "df5 = pd.DataFrame(ar)"
      ]
    },
    {
      "cell_type": "code",
      "execution_count": null,
      "metadata": {
        "id": "3El54oZ2pjsS"
      },
      "outputs": [],
      "source": [
        "# データフレームのshapeとlen関数\n",
        "# shapeとlen関数は、内部のNumPyの結果がそのまま返る\n",
        "\n",
        "print(df1.shape)\n",
        "print(len(df1))"
      ]
    },
    {
      "cell_type": "markdown",
      "metadata": {
        "id": "Z2I02NLHpjsU"
      },
      "source": [
        "### データフレーム部分参照"
      ]
    },
    {
      "cell_type": "code",
      "execution_count": null,
      "metadata": {
        "id": "6kmPCl_OpjsV"
      },
      "outputs": [],
      "source": [
        "# 列リストで部分表を抽出\n",
        "\n",
        "cols = ['年齢', '身長']\n",
        "df6 = df1[cols]\n",
        "\n",
        "display(df6)"
      ]
    },
    {
      "cell_type": "code",
      "execution_count": null,
      "metadata": {
        "id": "BNHw9Zt3pjsX"
      },
      "outputs": [],
      "source": [
        "# データフレームの特定列をNumPy配列として抽出\n",
        "\n",
        "y = df1['年齢'].values\n",
        "print(y)"
      ]
    },
    {
      "cell_type": "code",
      "execution_count": null,
      "metadata": {
        "id": "jxBTDAW9pjsZ"
      },
      "outputs": [],
      "source": [
        "# head関数で行の範囲指定\n",
        "display(df1.head(2))"
      ]
    },
    {
      "cell_type": "code",
      "execution_count": null,
      "metadata": {
        "id": "IJXtg23ppjsa"
      },
      "outputs": [],
      "source": [
        "# 行の範囲を数値指定\n",
        "display(df1[0:2])"
      ]
    },
    {
      "cell_type": "markdown",
      "metadata": {
        "id": "doL6EuABpjsd"
      },
      "source": [
        "#### Index配列を元に行選択"
      ]
    },
    {
      "cell_type": "code",
      "execution_count": null,
      "metadata": {
        "id": "Nsi0FrY0pjsd"
      },
      "outputs": [],
      "source": [
        "# idx:「col_aが奇数」を判定\n",
        "idx = (df1['年齢'] % 2 == 1)\n",
        "print(idx)"
      ]
    },
    {
      "cell_type": "code",
      "execution_count": null,
      "metadata": {
        "id": "ksLK66I_pjsf"
      },
      "outputs": [],
      "source": [
        "# idx で行を絞り込む\n",
        "df7 = df1[idx]\n",
        "display(df7)"
      ]
    },
    {
      "cell_type": "code",
      "execution_count": null,
      "metadata": {
        "id": "B34XDo-ppjsh"
      },
      "outputs": [],
      "source": [
        "# まとめて1行で表現\n",
        "df8 = df1[df1['年齢'] % 2 == 1]\n",
        "display(df8)"
      ]
    },
    {
      "cell_type": "markdown",
      "metadata": {
        "id": "hkK4n6FNpjsi"
      },
      "source": [
        "### データフレーム操作"
      ]
    },
    {
      "cell_type": "code",
      "execution_count": null,
      "metadata": {
        "id": "AkyQQOwJpjsj"
      },
      "outputs": [],
      "source": [
        "# df1をdf9にコピー\n",
        "df9 = df1.copy()\n",
        "\n",
        "# 列削除\n",
        "df9 = df9.drop('年齢', axis=1)\n",
        "display(df9)"
      ]
    },
    {
      "cell_type": "code",
      "execution_count": null,
      "metadata": {
        "id": "Gu-H_m_ppjsk"
      },
      "outputs": [],
      "source": [
        "# df10にdf1をコピー\n",
        "df10 = df1.copy()\n",
        "\n",
        "# 欠損値のある行を削除\n",
        "df10 = df10.dropna(subset = ['身長'])\n",
        "display(df10)"
      ]
    },
    {
      "cell_type": "code",
      "execution_count": null,
      "metadata": {
        "id": "jD4SaDAXpjsm"
      },
      "outputs": [],
      "source": [
        "# df11にdf1をコピー\n",
        "df11 = df1.copy()\n",
        "\n",
        "add_values = ['男性', '女性', '男性', '女性']\n",
        "df11['性別'] = add_values\n",
        "display(df11)"
      ]
    },
    {
      "cell_type": "markdown",
      "metadata": {
        "id": "pxA4rs3ppjso"
      },
      "source": [
        "### データフレーム関数"
      ]
    },
    {
      "cell_type": "code",
      "execution_count": null,
      "metadata": {
        "id": "O5IuS-4zpjso"
      },
      "outputs": [],
      "source": [
        "#  特定列に対する統計関数\n",
        "a_mean = df1['年齢'].mean()\n",
        "a_max = df1['年齢'].max()\n",
        "a_min = df1['年齢'].min()\n",
        "\n",
        "print(f'平均: {a_mean}  最大:{a_max}  最小:{a_min}')"
      ]
    },
    {
      "cell_type": "code",
      "execution_count": null,
      "metadata": {
        "id": "hj0Pw3vDpjsq"
      },
      "outputs": [],
      "source": [
        "# データフレーム全体にmean関数呼び出し\n",
        "print(df1.mean())"
      ]
    },
    {
      "cell_type": "code",
      "execution_count": null,
      "metadata": {
        "id": "pIOx75jgpjss"
      },
      "outputs": [],
      "source": [
        "# 項目ごとの統計情報取得\n",
        "display(df1.describe())"
      ]
    },
    {
      "cell_type": "code",
      "execution_count": null,
      "metadata": {
        "id": "z_WqUo8ypjsu"
      },
      "outputs": [],
      "source": [
        "# 項目値の個数集計\n",
        "df11['性別'].value_counts()"
      ]
    },
    {
      "cell_type": "code",
      "execution_count": null,
      "metadata": {
        "id": "qIZCjCpdpjsv"
      },
      "outputs": [],
      "source": [
        "# NULL値チェック\n",
        "display(df1.isnull())"
      ]
    },
    {
      "cell_type": "code",
      "execution_count": null,
      "metadata": {
        "id": "g3MXLN-ppjsx"
      },
      "outputs": [],
      "source": [
        "# 列単位の欠損値集計\n",
        "print(df1.isnull().sum())"
      ]
    },
    {
      "cell_type": "markdown",
      "metadata": {
        "id": "N6rKT_H9pjsz"
      },
      "source": [
        "### groupby関数"
      ]
    },
    {
      "cell_type": "code",
      "execution_count": null,
      "metadata": {
        "id": "vRU_a1vrpjs0"
      },
      "outputs": [],
      "source": [
        "# groupby関数でcol_dの項目値ごとの集計\n",
        "df12 = df11.groupby('性別').mean()\n",
        "display(df12)"
      ]
    },
    {
      "cell_type": "markdown",
      "metadata": {
        "id": "k8oOfxKmpjs1"
      },
      "source": [
        "### map関数"
      ]
    },
    {
      "cell_type": "code",
      "execution_count": null,
      "metadata": {
        "id": "WDr7C0ZTpjs2"
      },
      "outputs": [],
      "source": [
        "# map関数でmale/femaleを1/0に置き換え\n",
        "df13 = df11.copy()\n",
        "mf_map = {'男性': 1, '女性': 0}\n",
        "df13['性別'] = df13['性別'].map(mf_map)\n",
        "display(df13)"
      ]
    },
    {
      "cell_type": "markdown",
      "metadata": {
        "id": "2Aviydt8EHI7"
      },
      "source": [
        "### set_index 関数"
      ]
    },
    {
      "cell_type": "code",
      "execution_count": null,
      "metadata": {
        "id": "OUEp4o6XD36O"
      },
      "outputs": [],
      "source": [
        "# 元データフレームの確認\n",
        "df14 = df11.copy()\n",
        "display(df14)"
      ]
    },
    {
      "cell_type": "code",
      "execution_count": null,
      "metadata": {
        "id": "KBxmteNND4RX"
      },
      "outputs": [],
      "source": [
        "# set_index関数の利用\n",
        "df14 = df14.set_index('性別')\n",
        "display(df14)"
      ]
    },
    {
      "cell_type": "code",
      "execution_count": null,
      "metadata": {
        "id": "SlfBgUhZEcpG"
      },
      "outputs": [],
      "source": [
        "# df11をインデックスで絞り込み\n",
        "df15 = df14.loc['男性']\n",
        "display(df15)"
      ]
    },
    {
      "cell_type": "code",
      "execution_count": null,
      "metadata": {
        "id": "vEZag-2YJ6H3"
      },
      "outputs": [],
      "source": []
    }
  ],
  "metadata": {
    "colab": {
      "provenance": [],
      "toc_visible": true
    },
    "kernelspec": {
      "display_name": "Python 3",
      "language": "python",
      "name": "python3"
    },
    "language_info": {
      "codemirror_mode": {
        "name": "ipython",
        "version": 3
      },
      "file_extension": ".py",
      "mimetype": "text/x-python",
      "name": "python",
      "nbconvert_exporter": "python",
      "pygments_lexer": "ipython3",
      "version": "3.7.6"
    }
  },
  "nbformat": 4,
  "nbformat_minor": 0
}
