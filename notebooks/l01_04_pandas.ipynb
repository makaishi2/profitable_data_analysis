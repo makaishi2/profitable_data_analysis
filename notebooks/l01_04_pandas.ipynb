{
 "cells": [
  {
   "cell_type": "markdown",
   "metadata": {
    "id": "4gGRZm4npjrz"
   },
   "source": [
    "## 講座 1.4 Pandas入門"
   ]
  },
  {
   "cell_type": "markdown",
   "metadata": {
    "id": "nHmayxj0pjr0"
   },
   "source": [
    "### データフレーム定義"
   ]
  },
  {
   "cell_type": "markdown",
   "metadata": {
    "id": "C_lVnAsOpjr0"
   },
   "source": [
    "#### ライブラリインポート"
   ]
  },
  {
   "cell_type": "code",
   "execution_count": null,
   "metadata": {
    "id": "BCjiKeO2pjr1"
   },
   "outputs": [],
   "source": [
    "# ライブラリのimport\n",
    "\n",
    "# NumPy用ライブラリ\n",
    "import numpy as np\n",
    "\n",
    "# pandas用ライブラリ\n",
    "import pandas as pd\n",
    "\n",
    "# データフレーム表示用関数\n",
    "from IPython.display import display\n",
    "\n",
    "# データフレームでの表示精度\n",
    "pd.options.display.float_format = '{:.4f}'.format\n",
    "\n",
    "# データフレームですべての項目を表示\n",
    "pd.set_option(\"display.max_columns\",None)"
   ]
  },
  {
   "cell_type": "markdown",
   "metadata": {
    "id": "RV7cWulfpjr4"
   },
   "source": [
    "#### データフレーム定義"
   ]
  },
  {
   "cell_type": "code",
   "execution_count": null,
   "metadata": {
    "colab": {
     "base_uri": "https://localhost:8080/"
    },
    "id": "wa5sQtBFpjr4",
    "outputId": "ec99638a-17c9-4de4-c772-c9964803cf90"
   },
   "outputs": [],
   "source": [
    "# NumPy2次元配列の定義\n",
    "b = np.array([\n",
    "[25, 140, 40.5],\n",
    "[36, 175, 70.2],\n",
    "[43, np.nan, 65.0],\n",
    "[31, 158, 55.6],])\n",
    "\n",
    "# 結果確認\n",
    "print(b)"
   ]
  },
  {
   "cell_type": "code",
   "execution_count": null,
   "metadata": {
    "colab": {
     "base_uri": "https://localhost:8080/",
     "height": 192
    },
    "id": "7kLfGAL4pjr7",
    "outputId": "41f0dbb5-6387-4a8e-fd52-bdab0d1d279b"
   },
   "outputs": [],
   "source": [
    "# データフレームの定義\n",
    "df = pd.DataFrame(b, columns=['年齢', '身長', '体重'])\n",
    "\n",
    "# 型表示\n",
    "print(type(df))\n",
    "\n",
    "# display関数による整形表示\n",
    "display(df)"
   ]
  },
  {
   "cell_type": "code",
   "execution_count": null,
   "metadata": {
    "id": "e9MANfo2iuRI"
   },
   "outputs": [],
   "source": [
    "df.to_excel('fig-1-3-3.xlsx')"
   ]
  },
  {
   "cell_type": "code",
   "execution_count": null,
   "metadata": {
    "id": "j46NZ00QjsEy"
   },
   "outputs": [],
   "source": [
    "df.to_csv('df-sample2.csv', index=False)"
   ]
  },
  {
   "cell_type": "code",
   "execution_count": null,
   "metadata": {
    "id": "MCgcE0xklvf_"
   },
   "outputs": [],
   "source": [
    "df.to_excel('table-A1-3-5.xlsx')"
   ]
  },
  {
   "cell_type": "code",
   "execution_count": null,
   "metadata": {
    "colab": {
     "base_uri": "https://localhost:8080/"
    },
    "id": "O31fAJwFpjr9",
    "outputId": "a71712bd-5786-4eb7-81d8-048389b8428f"
   },
   "outputs": [],
   "source": [
    "# データフレームの各部品表示\n",
    "\n",
    "# 列名\n",
    "print('列名', df.columns)\n",
    "\n",
    "# 行名\n",
    "print('行名', df.index)\n",
    "\n",
    "# データ本体\n",
    "print('データ本体\\n', df.values)"
   ]
  },
  {
   "cell_type": "markdown",
   "metadata": {
    "id": "_WkiLAW-pjsA"
   },
   "source": [
    "### ファイルからのデータ読み込み"
   ]
  },
  {
   "cell_type": "markdown",
   "metadata": {
    "id": "CUqqUdBWpjsA"
   },
   "source": [
    "#### CSVファイルからの読み込み"
   ]
  },
  {
   "cell_type": "code",
   "execution_count": null,
   "metadata": {
    "colab": {
     "base_uri": "https://localhost:8080/",
     "height": 174
    },
    "id": "ZVyNK5m_pjsA",
    "outputId": "13754906-2c1a-4b68-afa3-45e0f16cb6ba"
   },
   "outputs": [],
   "source": [
    "# CSVファイルからの読み込み\n",
    "\n",
    "# 読み込み元URL\n",
    "csv_url = 'https://raw.githubusercontent.com/makaishi2/samples/refs/heads/main/data/df-sample2.csv'\n",
    "# データ読み込み\n",
    "df_csv = pd.read_csv(csv_url)\n",
    "\n",
    "# 結果確認\n",
    "display(df_csv)"
   ]
  },
  {
   "cell_type": "code",
   "execution_count": null,
   "metadata": {
    "colab": {
     "base_uri": "https://localhost:8080/",
     "height": 174
    },
    "id": "C5nwfcNtpjsD",
    "outputId": "6564c7fe-2178-435d-b872-e1963732ae64"
   },
   "outputs": [],
   "source": [
    "# ファイル読み込み後の列名変更\n",
    "columns = ['age', 'height', 'weight']\n",
    "df_csv.columns = columns\n",
    "\n",
    "# 結果確認\n",
    "display(df_csv)"
   ]
  },
  {
   "cell_type": "code",
   "execution_count": null,
   "metadata": {
    "id": "7ABKqpgmxNsL"
   },
   "outputs": [],
   "source": [
    "df_csv.to_excel('table-A1-3-6.xlsx')"
   ]
  },
  {
   "cell_type": "markdown",
   "metadata": {
    "id": "QDaMz8DXpjsF"
   },
   "source": [
    "#### Excelファイルからの読み込み"
   ]
  },
  {
   "cell_type": "code",
   "execution_count": null,
   "metadata": {
    "colab": {
     "base_uri": "https://localhost:8080/",
     "height": 174
    },
    "id": "eOgg3IOopjsG",
    "outputId": "d63eb25f-3a44-4e36-c9d8-9f8e35cadf12"
   },
   "outputs": [],
   "source": [
    "# Excelファイルからの読み込み\n",
    "\n",
    "# 読み込み元URL\n",
    "excel_url = 'https://github.com/makaishi2/samples/raw/refs/heads/main/data/df-sample2.xlsx'\n",
    "\n",
    "# データ読み込み\n",
    "df_excel = pd.read_excel(excel_url)\n",
    "\n",
    "# 結果確認\n",
    "display(df_excel)"
   ]
  },
  {
   "cell_type": "markdown",
   "metadata": {
    "id": "tnI4IsGHpjsI"
   },
   "source": [
    "### Series定義"
   ]
  },
  {
   "cell_type": "code",
   "execution_count": null,
   "metadata": {
    "colab": {
     "base_uri": "https://localhost:8080/"
    },
    "id": "nyDX6ISlpjsI",
    "outputId": "afb9f219-a6b2-4b36-e520-7a18c4321e78"
   },
   "outputs": [],
   "source": [
    "# 1次元NumPy配列の定義\n",
    "a = np.array(['男性', '女性', '男性', '女性'])\n",
    "\n",
    "# 結果確認\n",
    "print(a)"
   ]
  },
  {
   "cell_type": "code",
   "execution_count": null,
   "metadata": {
    "colab": {
     "base_uri": "https://localhost:8080/"
    },
    "id": "h3QNSutjpjsK",
    "outputId": "c528e68b-c12a-4f0f-bc6c-0e0f8e87b69c"
   },
   "outputs": [],
   "source": [
    "# Seriesの定義\n",
    "ser = pd.Series(a, name='性別')\n",
    "\n",
    "print(type(ser))\n",
    "\n",
    "print(ser)"
   ]
  },
  {
   "cell_type": "code",
   "execution_count": null,
   "metadata": {
    "colab": {
     "base_uri": "https://localhost:8080/"
    },
    "id": "flUQQ12XpjsO",
    "outputId": "fb5cff69-b20d-430d-a6cf-e6712ab37474"
   },
   "outputs": [],
   "source": [
    "# データフレームからSeriesを生成\n",
    "ser2 = df['年齢']\n",
    "\n",
    "print(type(ser2))\n",
    "\n",
    "print(ser2)"
   ]
  },
  {
   "cell_type": "markdown",
   "metadata": {
    "id": "9doo0P4HpjsQ"
   },
   "source": [
    "### データフレームとNumPyの関係"
   ]
  },
  {
   "cell_type": "code",
   "execution_count": null,
   "metadata": {
    "id": "gAWFPi9xpjsQ"
   },
   "outputs": [],
   "source": [
    "# データフレームと2次元NumPy配列の関係\n",
    "\n",
    "# データフレームから2次元NumPy配列を取得\n",
    "ar = df.values\n",
    "\n",
    "# 2次元NumPy配列からデータフレームを生成\n",
    "df0 = pd.DataFrame(ar)"
   ]
  },
  {
   "cell_type": "code",
   "execution_count": null,
   "metadata": {
    "colab": {
     "base_uri": "https://localhost:8080/"
    },
    "id": "3El54oZ2pjsS",
    "outputId": "f191a0a1-38d6-42f6-f536-009b7e29e069"
   },
   "outputs": [],
   "source": [
    "# データフレームのshapeとlen関数\n",
    "# shapeとlen関数は、内部のNumPyの結果がそのまま返る\n",
    "\n",
    "print(df.shape)\n",
    "print(len(df))"
   ]
  },
  {
   "cell_type": "markdown",
   "metadata": {
    "id": "Z2I02NLHpjsU"
   },
   "source": [
    "### データフレーム部分参照"
   ]
  },
  {
   "cell_type": "code",
   "execution_count": null,
   "metadata": {
    "colab": {
     "base_uri": "https://localhost:8080/",
     "height": 174
    },
    "id": "6kmPCl_OpjsV",
    "outputId": "fd2783d2-811d-4aaf-e8f6-3d668d1e158b"
   },
   "outputs": [],
   "source": [
    "# 列リストで部分表を抽出\n",
    "\n",
    "cols = ['年齢', '身長']\n",
    "df2 = df[cols]\n",
    "\n",
    "display(df2)"
   ]
  },
  {
   "cell_type": "code",
   "execution_count": null,
   "metadata": {
    "id": "tMpMM7nt1ReH"
   },
   "outputs": [],
   "source": [
    "df2.to_excel('table-A1-3-13.xlsx')"
   ]
  },
  {
   "cell_type": "code",
   "execution_count": null,
   "metadata": {
    "colab": {
     "base_uri": "https://localhost:8080/"
    },
    "id": "BNHw9Zt3pjsX",
    "outputId": "bc38d7ad-c3ce-457b-96ec-caf4981d8c5b"
   },
   "outputs": [],
   "source": [
    "# データフレームの特定列をNumPy配列として抽出\n",
    "\n",
    "y = df['年齢'].values\n",
    "print(y)"
   ]
  },
  {
   "cell_type": "code",
   "execution_count": null,
   "metadata": {
    "colab": {
     "base_uri": "https://localhost:8080/",
     "height": 112
    },
    "id": "jxBTDAW9pjsZ",
    "outputId": "507a1e81-31c5-4d61-dc7a-8be8cc0ddbd7"
   },
   "outputs": [],
   "source": [
    "# head関数で行の範囲指定\n",
    "display(df.head(2))"
   ]
  },
  {
   "cell_type": "code",
   "execution_count": null,
   "metadata": {
    "id": "1B2y63Ty3Hf2"
   },
   "outputs": [],
   "source": [
    "df.head(2).to_excel('table-A1-3-15.xlsx')"
   ]
  },
  {
   "cell_type": "code",
   "execution_count": null,
   "metadata": {
    "colab": {
     "base_uri": "https://localhost:8080/",
     "height": 112
    },
    "id": "IJXtg23ppjsa",
    "outputId": "46b4ad24-0e10-4ee2-ed76-6608adfec9fb"
   },
   "outputs": [],
   "source": [
    "# 行の範囲を数値指定\n",
    "display(df[0:2])"
   ]
  },
  {
   "cell_type": "markdown",
   "metadata": {
    "id": "doL6EuABpjsd"
   },
   "source": [
    "#### Index配列を元に行選択"
   ]
  },
  {
   "cell_type": "code",
   "execution_count": null,
   "metadata": {
    "colab": {
     "base_uri": "https://localhost:8080/"
    },
    "id": "Nsi0FrY0pjsd",
    "outputId": "35f67614-5e93-4c55-f040-d4bb6cdeef44"
   },
   "outputs": [],
   "source": [
    "# idx:「col_aが奇数」を判定\n",
    "idx = (df['年齢'] % 2 == 1)\n",
    "print(idx)"
   ]
  },
  {
   "cell_type": "code",
   "execution_count": null,
   "metadata": {
    "colab": {
     "base_uri": "https://localhost:8080/",
     "height": 143
    },
    "id": "ksLK66I_pjsf",
    "outputId": "44790aba-1b62-4547-9a80-927c5391d22c"
   },
   "outputs": [],
   "source": [
    "# idx で行を絞り込む\n",
    "df3 = df[idx]\n",
    "display(df3)"
   ]
  },
  {
   "cell_type": "code",
   "execution_count": null,
   "metadata": {
    "id": "E9Ma6b5v5WQf"
   },
   "outputs": [],
   "source": [
    "df3.to_excel('table-A1-3-18.xlsx')"
   ]
  },
  {
   "cell_type": "code",
   "execution_count": null,
   "metadata": {
    "colab": {
     "base_uri": "https://localhost:8080/",
     "height": 143
    },
    "id": "B34XDo-ppjsh",
    "outputId": "532f6b59-a359-4e4c-d6fa-6a14bb702249"
   },
   "outputs": [],
   "source": [
    "# まとめて1行で表現\n",
    "df4 = df[df['年齢'] % 2 == 1]\n",
    "display(df4)"
   ]
  },
  {
   "cell_type": "markdown",
   "metadata": {
    "id": "hkK4n6FNpjsi"
   },
   "source": [
    "### データフレーム操作"
   ]
  },
  {
   "cell_type": "code",
   "execution_count": null,
   "metadata": {
    "colab": {
     "base_uri": "https://localhost:8080/",
     "height": 174
    },
    "id": "AkyQQOwJpjsj",
    "outputId": "cebd87e8-93ed-4075-8c13-d4950e198fd7"
   },
   "outputs": [],
   "source": [
    "# 列削除\n",
    "df5 = df.drop('年齢', axis=1)\n",
    "display(df5)"
   ]
  },
  {
   "cell_type": "code",
   "execution_count": null,
   "metadata": {
    "id": "MTDPndQV6wl4"
   },
   "outputs": [],
   "source": [
    "df5.to_excel('table-A1-3-20.xlsx')"
   ]
  },
  {
   "cell_type": "code",
   "execution_count": null,
   "metadata": {
    "colab": {
     "base_uri": "https://localhost:8080/",
     "height": 143
    },
    "id": "Gu-H_m_ppjsk",
    "outputId": "25de32de-b1f9-456c-d768-b69a16be30d9"
   },
   "outputs": [],
   "source": [
    "# 欠損値のある行を削除\n",
    "df6 = df.dropna(subset = ['身長'])\n",
    "display(df6)"
   ]
  },
  {
   "cell_type": "code",
   "execution_count": null,
   "metadata": {
    "id": "9sXg9bOx7vr8"
   },
   "outputs": [],
   "source": [
    "df6.to_excel('table-A1-3-21.xlsx')"
   ]
  },
  {
   "cell_type": "code",
   "execution_count": null,
   "metadata": {
    "colab": {
     "base_uri": "https://localhost:8080/",
     "height": 174
    },
    "id": "jD4SaDAXpjsm",
    "outputId": "36805f08-a4b1-48aa-cc5a-df9c48fbb722"
   },
   "outputs": [],
   "source": [
    "# 列連結\n",
    "df7 = pd.concat([df, ser], axis=1)\n",
    "display(df7)"
   ]
  },
  {
   "cell_type": "code",
   "execution_count": null,
   "metadata": {
    "id": "gF3TQUJn8y1K"
   },
   "outputs": [],
   "source": [
    "df7.to_excel('table-A1-3-22.xlsx')"
   ]
  },
  {
   "cell_type": "markdown",
   "metadata": {
    "id": "pxA4rs3ppjso"
   },
   "source": [
    "### データフレーム関数"
   ]
  },
  {
   "cell_type": "code",
   "execution_count": null,
   "metadata": {
    "colab": {
     "base_uri": "https://localhost:8080/"
    },
    "id": "O5IuS-4zpjso",
    "outputId": "41e43b51-c675-476b-e7ae-a8e49fbb495d"
   },
   "outputs": [],
   "source": [
    "#  特定列に対する統計関数\n",
    "a_mean = df['年齢'].mean()\n",
    "a_max = df['年齢'].max()\n",
    "a_min = df['年齢'].min()\n",
    "\n",
    "print(f'平均: {a_mean}  最大:{a_max}  最小:{a_min}')"
   ]
  },
  {
   "cell_type": "code",
   "execution_count": null,
   "metadata": {
    "colab": {
     "base_uri": "https://localhost:8080/"
    },
    "id": "hj0Pw3vDpjsq",
    "outputId": "2a412580-b15d-49af-b78a-2e21d580aab1"
   },
   "outputs": [],
   "source": [
    "# データフレーム全体にmean関数呼び出し\n",
    "print(df.mean())"
   ]
  },
  {
   "cell_type": "code",
   "execution_count": null,
   "metadata": {
    "colab": {
     "base_uri": "https://localhost:8080/",
     "height": 300
    },
    "id": "pIOx75jgpjss",
    "outputId": "b1ec59f9-3a19-4529-a58f-0900280407fb"
   },
   "outputs": [],
   "source": [
    "# 項目ごとの統計情報取得\n",
    "display(df.describe())"
   ]
  },
  {
   "cell_type": "code",
   "execution_count": null,
   "metadata": {
    "id": "0RbF_8W7-zUO"
   },
   "outputs": [],
   "source": [
    "df.describe().to_excel('table-A1-3-25.xlsx')"
   ]
  },
  {
   "cell_type": "code",
   "execution_count": null,
   "metadata": {
    "colab": {
     "base_uri": "https://localhost:8080/",
     "height": 178
    },
    "id": "z_WqUo8ypjsu",
    "outputId": "e1273082-f0a8-445c-8427-a6df6539cf59"
   },
   "outputs": [],
   "source": [
    "# 項目値の個数集計\n",
    "df7['性別'].value_counts()"
   ]
  },
  {
   "cell_type": "code",
   "execution_count": null,
   "metadata": {
    "id": "RP1EbuAX_zvj"
   },
   "outputs": [],
   "source": [
    "df7['性別'].value_counts().to_excel('table-A1-3-26.xlsx')"
   ]
  },
  {
   "cell_type": "code",
   "execution_count": null,
   "metadata": {
    "colab": {
     "base_uri": "https://localhost:8080/",
     "height": 174
    },
    "id": "qIZCjCpdpjsv",
    "outputId": "2a57c4c0-2ee4-4635-88c2-ef7e5385ec0d"
   },
   "outputs": [],
   "source": [
    "# NULL値チェック\n",
    "display(df.isnull())"
   ]
  },
  {
   "cell_type": "code",
   "execution_count": null,
   "metadata": {
    "id": "KtZP0nvcA5_a"
   },
   "outputs": [],
   "source": [
    "df.isnull().to_excel('table-A1-3-27.xlsx')"
   ]
  },
  {
   "cell_type": "code",
   "execution_count": null,
   "metadata": {
    "colab": {
     "base_uri": "https://localhost:8080/"
    },
    "id": "g3MXLN-ppjsx",
    "outputId": "bd3e2264-6d7a-4a00-dab8-0024020045aa"
   },
   "outputs": [],
   "source": [
    "# 列単位の欠損値集計\n",
    "print(df.isnull().sum())"
   ]
  },
  {
   "cell_type": "markdown",
   "metadata": {
    "id": "N6rKT_H9pjsz"
   },
   "source": [
    "### groupby関数"
   ]
  },
  {
   "cell_type": "code",
   "execution_count": null,
   "metadata": {
    "colab": {
     "base_uri": "https://localhost:8080/",
     "height": 143
    },
    "id": "vRU_a1vrpjs0",
    "outputId": "ba86f108-b726-4d63-a7ee-3877226035a0"
   },
   "outputs": [],
   "source": [
    "# groupby関数でcol_dの項目値ごとの集計\n",
    "df8 = df7.groupby('性別').mean()\n",
    "display(df8)"
   ]
  },
  {
   "cell_type": "code",
   "execution_count": null,
   "metadata": {
    "id": "mo6TusYOCqe5"
   },
   "outputs": [],
   "source": [
    "df8.to_excel('table-A1-3-29.xlsx')"
   ]
  },
  {
   "cell_type": "markdown",
   "metadata": {
    "id": "k8oOfxKmpjs1"
   },
   "source": [
    "### map関数"
   ]
  },
  {
   "cell_type": "code",
   "execution_count": null,
   "metadata": {
    "colab": {
     "base_uri": "https://localhost:8080/",
     "height": 174
    },
    "id": "WDr7C0ZTpjs2",
    "outputId": "928ef65e-0721-4f8a-c3ed-d420187a344d"
   },
   "outputs": [],
   "source": [
    "# map関数でmale/femaleを1/0に置き換え\n",
    "df9 = df7.copy()\n",
    "mf_map = {'男性': 1, '女性': 0}\n",
    "df9['性別'] = df9['性別'].map(mf_map)\n",
    "display(df9)"
   ]
  },
  {
   "cell_type": "code",
   "execution_count": null,
   "metadata": {
    "id": "kpgMWb2xpjs3"
   },
   "outputs": [],
   "source": [
    "df9.to_excel('table-A1-3-30.xlsx')"
   ]
  },
  {
   "cell_type": "markdown",
   "metadata": {
    "id": "2Aviydt8EHI7"
   },
   "source": [
    "### set_index 関数"
   ]
  },
  {
   "cell_type": "code",
   "execution_count": null,
   "metadata": {
    "colab": {
     "base_uri": "https://localhost:8080/",
     "height": 174
    },
    "id": "OUEp4o6XD36O",
    "outputId": "e001187c-3c0b-4ed6-871e-623cdbc5bd00"
   },
   "outputs": [],
   "source": [
    "# 元データフレームの確認\n",
    "df10 = df7.copy()\n",
    "display(df10)"
   ]
  },
  {
   "cell_type": "code",
   "execution_count": null,
   "metadata": {
    "colab": {
     "base_uri": "https://localhost:8080/",
     "height": 206
    },
    "id": "KBxmteNND4RX",
    "outputId": "253b8162-0a7a-4373-d12b-6059952a88a2"
   },
   "outputs": [],
   "source": [
    "# set_index関数の利用\n",
    "df11 = df10.set_index('性別')\n",
    "display(df11)"
   ]
  },
  {
   "cell_type": "code",
   "execution_count": null,
   "metadata": {
    "colab": {
     "base_uri": "https://localhost:8080/",
     "height": 143
    },
    "id": "SlfBgUhZEcpG",
    "outputId": "3d2cf414-2c5c-40dd-c9af-201cfb1d34e9"
   },
   "outputs": [],
   "source": [
    "# df11をインデックスで絞り込み\n",
    "df12 = df11.loc['男性']\n",
    "display(df12)"
   ]
  },
  {
   "cell_type": "code",
   "execution_count": null,
   "metadata": {
    "id": "b7gYkCxVErM6"
   },
   "outputs": [],
   "source": []
  },
  {
   "cell_type": "code",
   "execution_count": null,
   "metadata": {
    "id": "CzzFGX5YFZZa"
   },
   "outputs": [],
   "source": [
    "df10.to_excel('table-A1-4-31.xlsx')"
   ]
  },
  {
   "cell_type": "code",
   "execution_count": null,
   "metadata": {
    "id": "NqZc7WvDGgFd"
   },
   "outputs": [],
   "source": [
    "df11.to_excel('table-A1-4-32.xlsx')"
   ]
  },
  {
   "cell_type": "code",
   "execution_count": null,
   "metadata": {
    "id": "AmHHGyLWHom5"
   },
   "outputs": [],
   "source": [
    "df12.to_excel('table-A1-4-33.xlsx')"
   ]
  },
  {
   "cell_type": "code",
   "execution_count": null,
   "metadata": {
    "id": "vEZag-2YJ6H3"
   },
   "outputs": [],
   "source": []
  }
 ],
 "metadata": {
  "colab": {
   "provenance": []
  },
  "kernelspec": {
   "display_name": "Python 3",
   "language": "python",
   "name": "python3"
  },
  "language_info": {
   "codemirror_mode": {
    "name": "ipython",
    "version": 3
   },
   "file_extension": ".py",
   "mimetype": "text/x-python",
   "name": "python",
   "nbconvert_exporter": "python",
   "pygments_lexer": "ipython3",
   "version": "3.7.6"
  }
 },
 "nbformat": 4,
 "nbformat_minor": 0
}
