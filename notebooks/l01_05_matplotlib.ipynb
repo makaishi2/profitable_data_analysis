{
 "cells": [
  {
   "cell_type": "markdown",
   "metadata": {
    "id": "5IMxZQV61P12"
   },
   "source": [
    "## 講座 1.5 matplotlinb入門"
   ]
  },
  {
   "cell_type": "code",
   "execution_count": null,
   "metadata": {
    "colab": {
     "base_uri": "https://localhost:8080/"
    },
    "id": "CVHsV3PP1P13",
    "outputId": "f45e0ac8-9632-4f2b-f4e4-c21791e482be"
   },
   "outputs": [],
   "source": [
    "# 日本語化ライブラリ導入\n",
    "!pip install japanize-matplotlib | tail -n 1"
   ]
  },
  {
   "cell_type": "code",
   "execution_count": null,
   "metadata": {
    "id": "EeFtwc6P1P18"
   },
   "outputs": [],
   "source": [
    "# 共通事前処理\n",
    "\n",
    "# 必要ライブラリのimport\n",
    "import numpy as np\n",
    "import pandas as pd\n",
    "import matplotlib.pyplot as plt\n",
    "\n",
    "# matplotlib日本語化対応\n",
    "import japanize_matplotlib\n",
    "\n",
    "# データフレーム表示用関数\n",
    "from IPython.display import display\n",
    "\n",
    "# グラフのデフォルトフォント指定\n",
    "plt.rcParams[\"font.size\"] = 14"
   ]
  },
  {
   "cell_type": "markdown",
   "metadata": {
    "id": "u-fIeytl1P1_"
   },
   "source": [
    "### 関数方式"
   ]
  },
  {
   "cell_type": "markdown",
   "metadata": {
    "id": "udaKCL-L1P1_"
   },
   "source": [
    "#### 散布図"
   ]
  },
  {
   "cell_type": "code",
   "execution_count": null,
   "metadata": {
    "colab": {
     "base_uri": "https://localhost:8080/",
     "height": 206
    },
    "id": "Es-WNkfv1P1_",
    "outputId": "01c44e58-551e-4007-abe9-a6fc3fe9f7c7"
   },
   "outputs": [],
   "source": [
    "# データ準備\n",
    "import seaborn as sns\n",
    "df_iris = sns.load_dataset(\"iris\")\n",
    "\n",
    "# 結果確認\n",
    "display(df_iris.head())"
   ]
  },
  {
   "cell_type": "code",
   "execution_count": null,
   "metadata": {
    "id": "u-fh4qbwOrt9"
   },
   "outputs": [],
   "source": [
    "df_iris.head().to_excel('table-A1-4-3.xlsx')"
   ]
  },
  {
   "cell_type": "code",
   "execution_count": null,
   "metadata": {
    "colab": {
     "base_uri": "https://localhost:8080/",
     "height": 438
    },
    "id": "UGxEsn0X1P2C",
    "outputId": "a4a295b8-435d-4835-b0dd-e7a8d3fa80e1"
   },
   "outputs": [],
   "source": [
    "# 散布図x座標用Series\n",
    "xs = df_iris['sepal_length']\n",
    "\n",
    "# 散布図y座標用Series\n",
    "ys = df_iris['sepal_width']\n",
    "\n",
    "# サイズ設定\n",
    "#plt.rcParams['figure.figsize'] = (6, 6)\n",
    "\n",
    "# 散布図\n",
    "plt.scatter(xs, ys)\n",
    "\n",
    "# 描画\n",
    "plt.show()"
   ]
  },
  {
   "cell_type": "markdown",
   "metadata": {
    "id": "y7Ahnm431P2F"
   },
   "source": [
    "#### 関数グラフ"
   ]
  },
  {
   "cell_type": "code",
   "execution_count": null,
   "metadata": {
    "colab": {
     "base_uri": "https://localhost:8080/"
    },
    "id": "1xx8yyay1P2F",
    "outputId": "4691db71-2da0-437a-af84-569342993db1"
   },
   "outputs": [],
   "source": [
    "# データ準備\n",
    "\n",
    "# シグモイド関数の定義\n",
    "def sigmoid(x, a):\n",
    "    return 1/(1 + np.exp(-a*x))\n",
    "\n",
    "# グラフ描画用x座標リスト\n",
    "xp = np.linspace(-3, 3, 61)\n",
    "\n",
    "# グラフ描画用y座標リスト\n",
    "yp = sigmoid(xp, 1.0)\n",
    "\n",
    "print(xp)\n",
    "print(yp)"
   ]
  },
  {
   "cell_type": "markdown",
   "metadata": {
    "id": "nARycg6a1P2K"
   },
   "source": [
    "#### 単純な例"
   ]
  },
  {
   "cell_type": "code",
   "execution_count": null,
   "metadata": {
    "colab": {
     "base_uri": "https://localhost:8080/",
     "height": 434
    },
    "id": "ProeQEHq1P2K",
    "outputId": "8bb6a9e7-fd30-44e1-ddf1-be6efa7568e1"
   },
   "outputs": [],
   "source": [
    "# グラフ描画\n",
    "plt.plot(xp, yp)\n",
    "\n",
    "# 描画\n",
    "plt.show()"
   ]
  },
  {
   "cell_type": "markdown",
   "metadata": {
    "id": "Ksn0T5h71P2O"
   },
   "source": [
    "#### 複雑な例"
   ]
  },
  {
   "cell_type": "code",
   "execution_count": null,
   "metadata": {
    "colab": {
     "base_uri": "https://localhost:8080/",
     "height": 457
    },
    "id": "we62RKgU1P2O",
    "outputId": "a3c01d10-dce5-43e9-99b0-80bfa205fe34"
   },
   "outputs": [],
   "source": [
    "# 関数値計算\n",
    "yp1 = sigmoid(xp, 1.0)\n",
    "yp2 = sigmoid(xp, 2.0)\n",
    "\n",
    "#ラベル付きグラフ描画 #1\n",
    "plt.plot(xp, yp1, label='シグモイド関数1', lw=3, c='k')\n",
    "\n",
    "# ラベル付きグラフ描画 #2\n",
    "plt.plot(xp, yp2, label='シグモイド関数2', lw=2, c='b')\n",
    "\n",
    "#方眼表示\n",
    "plt.grid()\n",
    "\n",
    "# 凡例表示\n",
    "plt.legend()\n",
    "\n",
    "# 軸表示\n",
    "plt.xlabel('x軸')\n",
    "plt.ylabel('y軸')\n",
    "\n",
    "# 描画\n",
    "plt.show()"
   ]
  },
  {
   "cell_type": "markdown",
   "metadata": {
    "id": "uADXcDSU1P2Q"
   },
   "source": [
    "### メソッド方式"
   ]
  },
  {
   "cell_type": "markdown",
   "metadata": {
    "id": "XuZXa78I1P2R"
   },
   "source": [
    "#### 時系列グラフ"
   ]
  },
  {
   "cell_type": "code",
   "execution_count": null,
   "metadata": {
    "colab": {
     "base_uri": "https://localhost:8080/",
     "height": 206
    },
    "id": "Foa8ikej1P2R",
    "outputId": "1384a2d1-93ef-49e6-81ff-fbd317aff47f"
   },
   "outputs": [],
   "source": [
    "#データ準備\n",
    "\n",
    "# アイスクリーム消費量\n",
    "df_ice = pd.read_excel('https://github.com/makaishi2\\\n",
    "/sample-data/blob/master/data/ice-sales.xlsx?raw=true',\n",
    "    sheet_name=0)\n",
    "\n",
    "# 結果確認\n",
    "display(df_ice.head())"
   ]
  },
  {
   "cell_type": "code",
   "execution_count": null,
   "metadata": {
    "id": "UGImfrl1gvi_"
   },
   "outputs": [],
   "source": [
    "df_ice.head().to_excel('table-A1-4-8.xlsx')"
   ]
  },
  {
   "cell_type": "code",
   "execution_count": null,
   "metadata": {
    "colab": {
     "base_uri": "https://localhost:8080/",
     "height": 435
    },
    "id": "VegbZxD71P2U",
    "outputId": "d9cac229-1603-44ac-ae75-d7538fa425df"
   },
   "outputs": [],
   "source": [
    "# ax変数の取得\n",
    "# サイズ指定も同時に行う\n",
    "fig, ax = plt.subplots(figsize=(12, 4))\n",
    "\n",
    "# グラフ描画\n",
    "ax.plot(df_ice['年月'], df_ice['支出'], c='b')\n",
    "\n",
    "# 日付設定用ライブラリ\n",
    "import matplotlib.dates as mdates\n",
    "\n",
    "# 3カ月区切りの目盛にする\n",
    "days = mdates.MonthLocator(bymonth=range(1,13,3))\n",
    "ax.xaxis.set_major_locator(days)\n",
    "\n",
    "# x軸ラベルを90度回転\n",
    "ax.tick_params(axis='x', rotation=90)\n",
    "\n",
    "# 方眼表示\n",
    "ax.grid()\n",
    "\n",
    "# 描画\n",
    "plt.show()"
   ]
  },
  {
   "cell_type": "markdown",
   "metadata": {
    "id": "6r1lXoP71P2W"
   },
   "source": [
    "#### 複数グラフ描画"
   ]
  },
  {
   "cell_type": "code",
   "execution_count": null,
   "metadata": {
    "colab": {
     "base_uri": "https://localhost:8080/"
    },
    "id": "MN2xbKlgoVGV",
    "outputId": "1cf458d6-0954-418f-ec4c-36620d820807"
   },
   "outputs": [],
   "source": [
    "# 項目名のリスト取得\n",
    "columns = df_iris.columns[:4]\n",
    "\n",
    "# 4x4のNumPy配列取得\n",
    "x = df_iris.values[:,:4]\n",
    "\n",
    "# 花の種別を整数値にエンコード\n",
    "from sklearn.preprocessing import LabelEncoder\n",
    "label_encoder = LabelEncoder()\n",
    "y = label_encoder.fit_transform(df_iris['species'])\n",
    "\n",
    "# 項目数の計算\n",
    "N = x.shape[1]\n",
    "\n",
    "print(columns)\n",
    "print(x[:5])\n",
    "print(y[:5])\n",
    "print(N)"
   ]
  },
  {
   "cell_type": "code",
   "execution_count": null,
   "metadata": {
    "colab": {
     "base_uri": "https://localhost:8080/",
     "height": 1000
    },
    "id": "n8IJVncG1P2Z",
    "outputId": "b556c100-0158-4e32-f070-9f83a39b6579"
   },
   "outputs": [],
   "source": [
    "# figsize計算用(1要素あたりの大きさ)\n",
    "u = 5\n",
    "# ax 領域の2次元配列をaxesとして取得\n",
    "fig, axes = plt.subplots(N, N, figsize=(u*N, u*N))\n",
    "\n",
    "for i in range(N):\n",
    "    for j in range(N):\n",
    "        # 描画対象axの取得\n",
    "        ax = axes[i, j]\n",
    "        # 散布図表示\n",
    "        ax.scatter(x[:, i], x[:, j], c=y, cmap='rainbow')\n",
    "        # タイトル表示\n",
    "        ax.set_title(columns[i] + ' vs ' + columns[j])\n",
    "        # 方眼表示\n",
    "        ax.grid()\n",
    "# 隣接オブジェクトとぶつからないようにする\n",
    "plt.tight_layout()\n",
    "\n",
    "# 表示\n",
    "plt.show()"
   ]
  },
  {
   "cell_type": "markdown",
   "metadata": {
    "id": "FgbdWcye1P2d"
   },
   "source": [
    "### データフレーム方式"
   ]
  },
  {
   "cell_type": "markdown",
   "metadata": {
    "id": "tbhlYkiR1P2d"
   },
   "source": [
    "#### ヒストグラム表示"
   ]
  },
  {
   "cell_type": "code",
   "execution_count": null,
   "metadata": {
    "colab": {
     "base_uri": "https://localhost:8080/",
     "height": 594
    },
    "id": "llxQ_15C1P2d",
    "outputId": "0540a956-78e7-4409-930b-31023a7875f1"
   },
   "outputs": [],
   "source": [
    "# ヒストグラム表示\n",
    "df_iris.hist(bins=20,figsize=(6,6))\n",
    "\n",
    "# 隣接オブジェクトとぶつからないようにする\n",
    "plt.tight_layout()\n",
    "\n",
    "# 表示\n",
    "plt.show()"
   ]
  },
  {
   "cell_type": "markdown",
   "metadata": {
    "id": "lhnKj6rw1P2g"
   },
   "source": [
    "#### データ件数の棒グラフ表示"
   ]
  },
  {
   "cell_type": "code",
   "execution_count": null,
   "metadata": {
    "colab": {
     "base_uri": "https://localhost:8080/"
    },
    "id": "FDWruZXR1P2g",
    "outputId": "cd4c6faa-dd62-4eb1-d8b5-1e59fddad0a9"
   },
   "outputs": [],
   "source": [
    "# データ準備\n",
    "\n",
    "# df_iris['sepal_width']の値別個数を集計し、上位5件を取得\n",
    "counts_ser = df_iris['sepal_width'].value_counts().sort_index()\n",
    "\n",
    "# 結果確認\n",
    "print(counts_ser.head())"
   ]
  },
  {
   "cell_type": "code",
   "execution_count": null,
   "metadata": {
    "colab": {
     "base_uri": "https://localhost:8080/",
     "height": 594
    },
    "id": "hDs643RN1P2i",
    "outputId": "d954bee7-0ffb-4b26-8f2f-60be1b214cb0"
   },
   "outputs": [],
   "source": [
    "# value_countsの結果を棒グラフ表示\n",
    "\n",
    "# Seriesデータで棒グラフ表示\n",
    "counts_ser.plot.bar(figsize=(6,6))\n",
    "\n",
    "plt.grid()\n",
    "plt.title('sepal_widthの分布')\n",
    "\n",
    "# 隣接オブジェクトとぶつからないようにする\n",
    "plt.tight_layout()\n",
    "\n",
    "# 表示\n",
    "plt.show()"
   ]
  },
  {
   "cell_type": "code",
   "execution_count": null,
   "metadata": {
    "id": "IkouPeL-1P2k"
   },
   "outputs": [],
   "source": [
    "# PDF印刷用\n",
    "from matplotlib_inline.backend_inline import set_matplotlib_formats\n",
    "set_matplotlib_formats('png', 'pdf')\n",
    "\n",
    "try:\n",
    "    from google.colab import files\n",
    "except:\n",
    "    pass\n",
    "\n",
    "pdf_ind = 2\n",
    "pdf_base = 'pdf-01-'\n",
    "\n",
    "def create_pdf():\n",
    "    global pdf_ind, pdf_base\n",
    "    fn = f'{pdf_base}{pdf_ind:02d}.pdf'\n",
    "    print(fn)\n",
    "    plt.rcParams['figure.subplot.bottom'] = 0.3\n",
    "    plt.rcParams['figure.subplot.left'] = 0.15\n",
    "    plt.savefig(fn)\n",
    "    try:\n",
    "        files.download(fn)\n",
    "    except:\n",
    "        pass\n",
    "    pdf_ind = pdf_ind + 1"
   ]
  }
 ],
 "metadata": {
  "colab": {
   "provenance": [],
   "toc_visible": true
  },
  "kernelspec": {
   "display_name": "Python 3",
   "language": "python",
   "name": "python3"
  },
  "language_info": {
   "codemirror_mode": {
    "name": "ipython",
    "version": 3
   },
   "file_extension": ".py",
   "mimetype": "text/x-python",
   "name": "python",
   "nbconvert_exporter": "python",
   "pygments_lexer": "ipython3",
   "version": "3.7.6"
  }
 },
 "nbformat": 4,
 "nbformat_minor": 0
}
